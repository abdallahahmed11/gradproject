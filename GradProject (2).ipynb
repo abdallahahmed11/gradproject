{
  "cells": [
    {
      "cell_type": "markdown",
      "source": [
        "Heart Disease Prediction using Machine Learning Approach\n",
        "Heart Disease (including Coronary Heart Disease, Hypertension, and Stroke) remains the No. 1 cause of death in the US.The Heart Disease and Stroke Statistics—2019 Update from the American Heart Association indicates that:\n",
        "\n",
        "116.4 million, or 46% of US adults are estimated to have hypertension. These are findings related to the new 2017 Hypertension Clinical Practice Guidelines.\n",
        "On average, someone dies of CVD every 38 seconds. About 2,303 deaths from CVD each day, based on 2016 data.\n",
        "On average, someone dies of a stroke every 3.70 minutes. About 389.4 deaths from stroke each day, based on 2016 data"
      ],
      "metadata": {
        "id": "D7B3hpKRPzxj"
      }
    },
    {
      "cell_type": "markdown",
      "source": [
        "This dataset consists of 11 features and a target variable. It has 6 nominal variables and 5 numeric variables. The detailed description of all the features are as follows:\n",
        "\n",
        "1. Age: Patients Age in years (Numeric)\n",
        "2. Sex: Gender of patient (Male - 1, Female - 0) (Nominal)\n",
        "3. Chest Pain Type: Type of chest pain experienced by patient categorized into 1 typical, 2 typical angina, 3 non- anginal pain, 4 asymptomatic (Nominal)\n",
        "4. resting bp s: Level of blood pressure at resting mode in mm/HG (Numerical)\n",
        "5. cholestrol: Serum cholestrol in mg/dl (Numeric)\n",
        "6. fasting blood sugar: Blood sugar levels on fasting > 120 mg/dl represents as 1 in case of true and 0 as false (Nominal)\n",
        "7. resting ecg: Result of electrocardiogram while at rest are represented in 3 distinct values 0 : Normal 1: Abnormality in ST-T wave 2: Left ventricular hypertrophy (Nominal)\n",
        "8. max heart rate: Maximum heart rate achieved (Numeric)\n",
        "9. exercise angina: Angina induced by exercise 0 depicting NO 1 depicting Yes (Nominal)\n",
        "10. oldpeak: Exercise induced ST-depression in comparison with the state of rest (Numeric)\n",
        "11. ST slope: ST segment measured in terms of slope during peak exercise 0: Normal 1: Upsloping 2: Flat 3: Downsloping (Nominal)\n",
        "\n",
        "Target variable\n",
        "12. Heartdisease: It is the target variable which we have to predict 1 means patient is suffering from heart risk and 0 means patient is normal."
      ],
      "metadata": {
        "id": "H1HEMBreP65C"
      }
    },
    {
      "cell_type": "markdown",
      "metadata": {
        "id": "gdhrJHexMqDS"
      },
      "source": [
        "# Load Data"
      ]
    },
    {
      "cell_type": "code",
      "execution_count": 131,
      "metadata": {
        "id": "X_AMOezZMip8"
      },
      "outputs": [],
      "source": [
        "#import impostant libaries\n",
        "\n",
        "import warnings\n",
        "warnings.filterwarnings(\"ignore\")\n",
        "\n",
        "import pandas as pd\n",
        "import numpy as np\n",
        "import seaborn as sns\n",
        "import matplotlib.pyplot as plt"
      ]
    },
    {
      "cell_type": "code",
      "execution_count": 132,
      "metadata": {
        "colab": {
          "base_uri": "https://localhost:8080/"
        },
        "id": "Fq5k2FGTNDHF",
        "outputId": "1aa4d005-26fb-4292-fc6a-6cab45f75a65"
      },
      "outputs": [
        {
          "output_type": "stream",
          "name": "stdout",
          "text": [
            "Drive already mounted at /content/drive; to attempt to forcibly remount, call drive.mount(\"/content/drive\", force_remount=True).\n"
          ]
        }
      ],
      "source": [
        "from google.colab import drive\n",
        "drive.mount(\"/content/drive\")"
      ]
    },
    {
      "cell_type": "code",
      "source": [
        "df = pd.read_csv('/content/drive/MyDrive/heart.csv')\n",
        "\n"
      ],
      "metadata": {
        "id": "itBBCmi05Wbi"
      },
      "execution_count": 133,
      "outputs": []
    },
    {
      "cell_type": "markdown",
      "metadata": {
        "id": "j0SHY2iHSPL8"
      },
      "source": [
        "# First look at data"
      ]
    },
    {
      "cell_type": "code",
      "execution_count": 134,
      "metadata": {
        "colab": {
          "base_uri": "https://localhost:8080/",
          "height": 0
        },
        "id": "Hy1QykfCOSIW",
        "outputId": "544cfc0f-acf7-4d8b-adf8-b42787868a1e"
      },
      "outputs": [
        {
          "output_type": "execute_result",
          "data": {
            "text/plain": [
              "   Age Sex ChestPainType  RestingBP  Cholesterol  FastingBS RestingECG  MaxHR  \\\n",
              "0   40   M           ATA        140          289          0     Normal    172   \n",
              "1   49   F           NAP        160          180          0     Normal    156   \n",
              "2   37   M           ATA        130          283          0         ST     98   \n",
              "3   48   F           ASY        138          214          0     Normal    108   \n",
              "4   54   M           NAP        150          195          0     Normal    122   \n",
              "\n",
              "  ExerciseAngina  Oldpeak ST_Slope  HeartDisease  \n",
              "0              N     0.00       Up             0  \n",
              "1              N     1.00     Flat             1  \n",
              "2              N     0.00       Up             0  \n",
              "3              Y     1.50     Flat             1  \n",
              "4              N     0.00       Up             0  "
            ],
            "text/html": [
              "\n",
              "  <div id=\"df-eaa7a2e5-725a-4788-b3f8-b51d5bc5a68b\">\n",
              "    <div class=\"colab-df-container\">\n",
              "      <div>\n",
              "<style scoped>\n",
              "    .dataframe tbody tr th:only-of-type {\n",
              "        vertical-align: middle;\n",
              "    }\n",
              "\n",
              "    .dataframe tbody tr th {\n",
              "        vertical-align: top;\n",
              "    }\n",
              "\n",
              "    .dataframe thead th {\n",
              "        text-align: right;\n",
              "    }\n",
              "</style>\n",
              "<table border=\"1\" class=\"dataframe\">\n",
              "  <thead>\n",
              "    <tr style=\"text-align: right;\">\n",
              "      <th></th>\n",
              "      <th>Age</th>\n",
              "      <th>Sex</th>\n",
              "      <th>ChestPainType</th>\n",
              "      <th>RestingBP</th>\n",
              "      <th>Cholesterol</th>\n",
              "      <th>FastingBS</th>\n",
              "      <th>RestingECG</th>\n",
              "      <th>MaxHR</th>\n",
              "      <th>ExerciseAngina</th>\n",
              "      <th>Oldpeak</th>\n",
              "      <th>ST_Slope</th>\n",
              "      <th>HeartDisease</th>\n",
              "    </tr>\n",
              "  </thead>\n",
              "  <tbody>\n",
              "    <tr>\n",
              "      <th>0</th>\n",
              "      <td>40</td>\n",
              "      <td>M</td>\n",
              "      <td>ATA</td>\n",
              "      <td>140</td>\n",
              "      <td>289</td>\n",
              "      <td>0</td>\n",
              "      <td>Normal</td>\n",
              "      <td>172</td>\n",
              "      <td>N</td>\n",
              "      <td>0.00</td>\n",
              "      <td>Up</td>\n",
              "      <td>0</td>\n",
              "    </tr>\n",
              "    <tr>\n",
              "      <th>1</th>\n",
              "      <td>49</td>\n",
              "      <td>F</td>\n",
              "      <td>NAP</td>\n",
              "      <td>160</td>\n",
              "      <td>180</td>\n",
              "      <td>0</td>\n",
              "      <td>Normal</td>\n",
              "      <td>156</td>\n",
              "      <td>N</td>\n",
              "      <td>1.00</td>\n",
              "      <td>Flat</td>\n",
              "      <td>1</td>\n",
              "    </tr>\n",
              "    <tr>\n",
              "      <th>2</th>\n",
              "      <td>37</td>\n",
              "      <td>M</td>\n",
              "      <td>ATA</td>\n",
              "      <td>130</td>\n",
              "      <td>283</td>\n",
              "      <td>0</td>\n",
              "      <td>ST</td>\n",
              "      <td>98</td>\n",
              "      <td>N</td>\n",
              "      <td>0.00</td>\n",
              "      <td>Up</td>\n",
              "      <td>0</td>\n",
              "    </tr>\n",
              "    <tr>\n",
              "      <th>3</th>\n",
              "      <td>48</td>\n",
              "      <td>F</td>\n",
              "      <td>ASY</td>\n",
              "      <td>138</td>\n",
              "      <td>214</td>\n",
              "      <td>0</td>\n",
              "      <td>Normal</td>\n",
              "      <td>108</td>\n",
              "      <td>Y</td>\n",
              "      <td>1.50</td>\n",
              "      <td>Flat</td>\n",
              "      <td>1</td>\n",
              "    </tr>\n",
              "    <tr>\n",
              "      <th>4</th>\n",
              "      <td>54</td>\n",
              "      <td>M</td>\n",
              "      <td>NAP</td>\n",
              "      <td>150</td>\n",
              "      <td>195</td>\n",
              "      <td>0</td>\n",
              "      <td>Normal</td>\n",
              "      <td>122</td>\n",
              "      <td>N</td>\n",
              "      <td>0.00</td>\n",
              "      <td>Up</td>\n",
              "      <td>0</td>\n",
              "    </tr>\n",
              "  </tbody>\n",
              "</table>\n",
              "</div>\n",
              "      <button class=\"colab-df-convert\" onclick=\"convertToInteractive('df-eaa7a2e5-725a-4788-b3f8-b51d5bc5a68b')\"\n",
              "              title=\"Convert this dataframe to an interactive table.\"\n",
              "              style=\"display:none;\">\n",
              "        \n",
              "  <svg xmlns=\"http://www.w3.org/2000/svg\" height=\"24px\"viewBox=\"0 0 24 24\"\n",
              "       width=\"24px\">\n",
              "    <path d=\"M0 0h24v24H0V0z\" fill=\"none\"/>\n",
              "    <path d=\"M18.56 5.44l.94 2.06.94-2.06 2.06-.94-2.06-.94-.94-2.06-.94 2.06-2.06.94zm-11 1L8.5 8.5l.94-2.06 2.06-.94-2.06-.94L8.5 2.5l-.94 2.06-2.06.94zm10 10l.94 2.06.94-2.06 2.06-.94-2.06-.94-.94-2.06-.94 2.06-2.06.94z\"/><path d=\"M17.41 7.96l-1.37-1.37c-.4-.4-.92-.59-1.43-.59-.52 0-1.04.2-1.43.59L10.3 9.45l-7.72 7.72c-.78.78-.78 2.05 0 2.83L4 21.41c.39.39.9.59 1.41.59.51 0 1.02-.2 1.41-.59l7.78-7.78 2.81-2.81c.8-.78.8-2.07 0-2.86zM5.41 20L4 18.59l7.72-7.72 1.47 1.35L5.41 20z\"/>\n",
              "  </svg>\n",
              "      </button>\n",
              "      \n",
              "  <style>\n",
              "    .colab-df-container {\n",
              "      display:flex;\n",
              "      flex-wrap:wrap;\n",
              "      gap: 12px;\n",
              "    }\n",
              "\n",
              "    .colab-df-convert {\n",
              "      background-color: #E8F0FE;\n",
              "      border: none;\n",
              "      border-radius: 50%;\n",
              "      cursor: pointer;\n",
              "      display: none;\n",
              "      fill: #1967D2;\n",
              "      height: 32px;\n",
              "      padding: 0 0 0 0;\n",
              "      width: 32px;\n",
              "    }\n",
              "\n",
              "    .colab-df-convert:hover {\n",
              "      background-color: #E2EBFA;\n",
              "      box-shadow: 0px 1px 2px rgba(60, 64, 67, 0.3), 0px 1px 3px 1px rgba(60, 64, 67, 0.15);\n",
              "      fill: #174EA6;\n",
              "    }\n",
              "\n",
              "    [theme=dark] .colab-df-convert {\n",
              "      background-color: #3B4455;\n",
              "      fill: #D2E3FC;\n",
              "    }\n",
              "\n",
              "    [theme=dark] .colab-df-convert:hover {\n",
              "      background-color: #434B5C;\n",
              "      box-shadow: 0px 1px 3px 1px rgba(0, 0, 0, 0.15);\n",
              "      filter: drop-shadow(0px 1px 2px rgba(0, 0, 0, 0.3));\n",
              "      fill: #FFFFFF;\n",
              "    }\n",
              "  </style>\n",
              "\n",
              "      <script>\n",
              "        const buttonEl =\n",
              "          document.querySelector('#df-eaa7a2e5-725a-4788-b3f8-b51d5bc5a68b button.colab-df-convert');\n",
              "        buttonEl.style.display =\n",
              "          google.colab.kernel.accessAllowed ? 'block' : 'none';\n",
              "\n",
              "        async function convertToInteractive(key) {\n",
              "          const element = document.querySelector('#df-eaa7a2e5-725a-4788-b3f8-b51d5bc5a68b');\n",
              "          const dataTable =\n",
              "            await google.colab.kernel.invokeFunction('convertToInteractive',\n",
              "                                                     [key], {});\n",
              "          if (!dataTable) return;\n",
              "\n",
              "          const docLinkHtml = 'Like what you see? Visit the ' +\n",
              "            '<a target=\"_blank\" href=https://colab.research.google.com/notebooks/data_table.ipynb>data table notebook</a>'\n",
              "            + ' to learn more about interactive tables.';\n",
              "          element.innerHTML = '';\n",
              "          dataTable['output_type'] = 'display_data';\n",
              "          await google.colab.output.renderOutput(dataTable, element);\n",
              "          const docLink = document.createElement('div');\n",
              "          docLink.innerHTML = docLinkHtml;\n",
              "          element.appendChild(docLink);\n",
              "        }\n",
              "      </script>\n",
              "    </div>\n",
              "  </div>\n",
              "  "
            ]
          },
          "metadata": {},
          "execution_count": 134
        }
      ],
      "source": [
        "#look at the data\n",
        "df.head()"
      ]
    },
    {
      "cell_type": "code",
      "execution_count": 135,
      "metadata": {
        "colab": {
          "base_uri": "https://localhost:8080/"
        },
        "id": "TeHMmJ_FPeVY",
        "outputId": "5740a759-a444-4bf0-d948-2b1dca70e7ce"
      },
      "outputs": [
        {
          "output_type": "execute_result",
          "data": {
            "text/plain": [
              "(918, 12)"
            ]
          },
          "metadata": {},
          "execution_count": 135
        }
      ],
      "source": [
        "#see the number of rows and columns\n",
        "df.shape"
      ]
    },
    {
      "cell_type": "code",
      "execution_count": 136,
      "metadata": {
        "colab": {
          "base_uri": "https://localhost:8080/"
        },
        "id": "mkVITIstR4eW",
        "outputId": "f02a9a37-9a48-4379-8d2d-51f7741eeb9a"
      },
      "outputs": [
        {
          "output_type": "execute_result",
          "data": {
            "text/plain": [
              "Index(['Age', 'Sex', 'ChestPainType', 'RestingBP', 'Cholesterol', 'FastingBS',\n",
              "       'RestingECG', 'MaxHR', 'ExerciseAngina', 'Oldpeak', 'ST_Slope',\n",
              "       'HeartDisease'],\n",
              "      dtype='object')"
            ]
          },
          "metadata": {},
          "execution_count": 136
        }
      ],
      "source": [
        "#look at the features\n",
        "df.columns"
      ]
    },
    {
      "cell_type": "code",
      "execution_count": 137,
      "metadata": {
        "colab": {
          "base_uri": "https://localhost:8080/"
        },
        "id": "gJhDcl1qRjR8",
        "outputId": "27b586f8-5ad0-470c-981b-01e3f66a8b02"
      },
      "outputs": [
        {
          "output_type": "execute_result",
          "data": {
            "text/plain": [
              "0"
            ]
          },
          "metadata": {},
          "execution_count": 137
        }
      ],
      "source": [
        "#look at null values\n",
        "df.isna().sum().sum()"
      ]
    },
    {
      "cell_type": "code",
      "execution_count": 138,
      "metadata": {
        "colab": {
          "base_uri": "https://localhost:8080/"
        },
        "id": "JKumi9g6RnUk",
        "outputId": "57a38c90-641f-4903-de41-b80f4f08120b"
      },
      "outputs": [
        {
          "output_type": "execute_result",
          "data": {
            "text/plain": [
              "0"
            ]
          },
          "metadata": {},
          "execution_count": 138
        }
      ],
      "source": [
        "#check if there any duplicates\n",
        "df.duplicated().sum()"
      ]
    },
    {
      "cell_type": "code",
      "execution_count": 139,
      "metadata": {
        "colab": {
          "base_uri": "https://localhost:8080/"
        },
        "id": "rPZj86a2RcbK",
        "outputId": "cd654eb3-4991-4fd4-ab4f-65e3a51e3795"
      },
      "outputs": [
        {
          "output_type": "stream",
          "name": "stdout",
          "text": [
            "<class 'pandas.core.frame.DataFrame'>\n",
            "RangeIndex: 918 entries, 0 to 917\n",
            "Data columns (total 12 columns):\n",
            " #   Column          Non-Null Count  Dtype  \n",
            "---  ------          --------------  -----  \n",
            " 0   Age             918 non-null    int64  \n",
            " 1   Sex             918 non-null    object \n",
            " 2   ChestPainType   918 non-null    object \n",
            " 3   RestingBP       918 non-null    int64  \n",
            " 4   Cholesterol     918 non-null    int64  \n",
            " 5   FastingBS       918 non-null    int64  \n",
            " 6   RestingECG      918 non-null    object \n",
            " 7   MaxHR           918 non-null    int64  \n",
            " 8   ExerciseAngina  918 non-null    object \n",
            " 9   Oldpeak         918 non-null    float64\n",
            " 10  ST_Slope        918 non-null    object \n",
            " 11  HeartDisease    918 non-null    int64  \n",
            "dtypes: float64(1), int64(6), object(5)\n",
            "memory usage: 86.2+ KB\n"
          ]
        }
      ],
      "source": [
        "#see type of data in each column\n",
        "df.info()"
      ]
    },
    {
      "cell_type": "code",
      "execution_count": 140,
      "metadata": {
        "colab": {
          "base_uri": "https://localhost:8080/",
          "height": 0
        },
        "id": "ZZRcF2k-OUsp",
        "outputId": "955aac7d-5089-47ba-e3d4-ded517d7b40b"
      },
      "outputs": [
        {
          "output_type": "execute_result",
          "data": {
            "text/plain": [
              "<pandas.io.formats.style.Styler at 0x7f6cc76e2a00>"
            ],
            "text/html": [
              "<style type=\"text/css\">\n",
              "#T_fe416_row0_col0, #T_fe416_row0_col1, #T_fe416_row0_col2, #T_fe416_row0_col3, #T_fe416_row0_col4, #T_fe416_row0_col5, #T_fe416_row0_col6 {\n",
              "  background-color: #023858;\n",
              "  color: #f1f1f1;\n",
              "}\n",
              "#T_fe416_row1_col0, #T_fe416_row5_col0 {\n",
              "  background-color: #f8f1f8;\n",
              "  color: #000000;\n",
              "}\n",
              "#T_fe416_row1_col1, #T_fe416_row5_col1 {\n",
              "  background-color: #e8e4f0;\n",
              "  color: #000000;\n",
              "}\n",
              "#T_fe416_row1_col2, #T_fe416_row7_col1 {\n",
              "  background-color: #d8d7e9;\n",
              "  color: #000000;\n",
              "}\n",
              "#T_fe416_row1_col3, #T_fe416_row1_col5, #T_fe416_row1_col6, #T_fe416_row2_col0, #T_fe416_row2_col3, #T_fe416_row2_col4, #T_fe416_row2_col6, #T_fe416_row3_col1, #T_fe416_row3_col2, #T_fe416_row3_col3, #T_fe416_row3_col5, #T_fe416_row3_col6, #T_fe416_row4_col3, #T_fe416_row4_col5, #T_fe416_row4_col6, #T_fe416_row5_col3, #T_fe416_row5_col5, #T_fe416_row5_col6, #T_fe416_row6_col3, #T_fe416_row6_col6, #T_fe416_row7_col3, #T_fe416_row7_col6 {\n",
              "  background-color: #fff7fb;\n",
              "  color: #000000;\n",
              "}\n",
              "#T_fe416_row1_col4 {\n",
              "  background-color: #ede7f2;\n",
              "  color: #000000;\n",
              "}\n",
              "#T_fe416_row2_col1, #T_fe416_row3_col0 {\n",
              "  background-color: #fcf4fa;\n",
              "  color: #000000;\n",
              "}\n",
              "#T_fe416_row2_col2 {\n",
              "  background-color: #ede8f3;\n",
              "  color: #000000;\n",
              "}\n",
              "#T_fe416_row2_col5, #T_fe416_row6_col5 {\n",
              "  background-color: #fef6fb;\n",
              "  color: #000000;\n",
              "}\n",
              "#T_fe416_row3_col4 {\n",
              "  background-color: #faf2f8;\n",
              "  color: #000000;\n",
              "}\n",
              "#T_fe416_row4_col0 {\n",
              "  background-color: #f9f2f8;\n",
              "  color: #000000;\n",
              "}\n",
              "#T_fe416_row4_col1 {\n",
              "  background-color: #ebe6f2;\n",
              "  color: #000000;\n",
              "}\n",
              "#T_fe416_row4_col2 {\n",
              "  background-color: #dedcec;\n",
              "  color: #000000;\n",
              "}\n",
              "#T_fe416_row4_col4 {\n",
              "  background-color: #efe9f3;\n",
              "  color: #000000;\n",
              "}\n",
              "#T_fe416_row5_col2 {\n",
              "  background-color: #d2d2e7;\n",
              "  color: #000000;\n",
              "}\n",
              "#T_fe416_row5_col4 {\n",
              "  background-color: #ece7f2;\n",
              "  color: #000000;\n",
              "}\n",
              "#T_fe416_row6_col0 {\n",
              "  background-color: #f7f0f7;\n",
              "  color: #000000;\n",
              "}\n",
              "#T_fe416_row6_col1 {\n",
              "  background-color: #e6e2ef;\n",
              "  color: #000000;\n",
              "}\n",
              "#T_fe416_row6_col2 {\n",
              "  background-color: #c2cbe2;\n",
              "  color: #000000;\n",
              "}\n",
              "#T_fe416_row6_col4 {\n",
              "  background-color: #e7e3f0;\n",
              "  color: #000000;\n",
              "}\n",
              "#T_fe416_row7_col0 {\n",
              "  background-color: #f4edf6;\n",
              "  color: #000000;\n",
              "}\n",
              "#T_fe416_row7_col2 {\n",
              "  background-color: #2987bc;\n",
              "  color: #f1f1f1;\n",
              "}\n",
              "#T_fe416_row7_col4 {\n",
              "  background-color: #dcdaeb;\n",
              "  color: #000000;\n",
              "}\n",
              "#T_fe416_row7_col5 {\n",
              "  background-color: #fef6fa;\n",
              "  color: #000000;\n",
              "}\n",
              "</style>\n",
              "<table id=\"T_fe416_\" class=\"dataframe\">\n",
              "  <thead>\n",
              "    <tr>\n",
              "      <th class=\"blank level0\" >&nbsp;</th>\n",
              "      <th class=\"col_heading level0 col0\" >Age</th>\n",
              "      <th class=\"col_heading level0 col1\" >RestingBP</th>\n",
              "      <th class=\"col_heading level0 col2\" >Cholesterol</th>\n",
              "      <th class=\"col_heading level0 col3\" >FastingBS</th>\n",
              "      <th class=\"col_heading level0 col4\" >MaxHR</th>\n",
              "      <th class=\"col_heading level0 col5\" >Oldpeak</th>\n",
              "      <th class=\"col_heading level0 col6\" >HeartDisease</th>\n",
              "    </tr>\n",
              "  </thead>\n",
              "  <tbody>\n",
              "    <tr>\n",
              "      <th id=\"T_fe416_level0_row0\" class=\"row_heading level0 row0\" >count</th>\n",
              "      <td id=\"T_fe416_row0_col0\" class=\"data row0 col0\" >918.00</td>\n",
              "      <td id=\"T_fe416_row0_col1\" class=\"data row0 col1\" >918.00</td>\n",
              "      <td id=\"T_fe416_row0_col2\" class=\"data row0 col2\" >918.00</td>\n",
              "      <td id=\"T_fe416_row0_col3\" class=\"data row0 col3\" >918.00</td>\n",
              "      <td id=\"T_fe416_row0_col4\" class=\"data row0 col4\" >918.00</td>\n",
              "      <td id=\"T_fe416_row0_col5\" class=\"data row0 col5\" >918.00</td>\n",
              "      <td id=\"T_fe416_row0_col6\" class=\"data row0 col6\" >918.00</td>\n",
              "    </tr>\n",
              "    <tr>\n",
              "      <th id=\"T_fe416_level0_row1\" class=\"row_heading level0 row1\" >mean</th>\n",
              "      <td id=\"T_fe416_row1_col0\" class=\"data row1 col0\" >53.51</td>\n",
              "      <td id=\"T_fe416_row1_col1\" class=\"data row1 col1\" >132.40</td>\n",
              "      <td id=\"T_fe416_row1_col2\" class=\"data row1 col2\" >198.80</td>\n",
              "      <td id=\"T_fe416_row1_col3\" class=\"data row1 col3\" >0.23</td>\n",
              "      <td id=\"T_fe416_row1_col4\" class=\"data row1 col4\" >136.81</td>\n",
              "      <td id=\"T_fe416_row1_col5\" class=\"data row1 col5\" >0.89</td>\n",
              "      <td id=\"T_fe416_row1_col6\" class=\"data row1 col6\" >0.55</td>\n",
              "    </tr>\n",
              "    <tr>\n",
              "      <th id=\"T_fe416_level0_row2\" class=\"row_heading level0 row2\" >std</th>\n",
              "      <td id=\"T_fe416_row2_col0\" class=\"data row2 col0\" >9.43</td>\n",
              "      <td id=\"T_fe416_row2_col1\" class=\"data row2 col1\" >18.51</td>\n",
              "      <td id=\"T_fe416_row2_col2\" class=\"data row2 col2\" >109.38</td>\n",
              "      <td id=\"T_fe416_row2_col3\" class=\"data row2 col3\" >0.42</td>\n",
              "      <td id=\"T_fe416_row2_col4\" class=\"data row2 col4\" >25.46</td>\n",
              "      <td id=\"T_fe416_row2_col5\" class=\"data row2 col5\" >1.07</td>\n",
              "      <td id=\"T_fe416_row2_col6\" class=\"data row2 col6\" >0.50</td>\n",
              "    </tr>\n",
              "    <tr>\n",
              "      <th id=\"T_fe416_level0_row3\" class=\"row_heading level0 row3\" >min</th>\n",
              "      <td id=\"T_fe416_row3_col0\" class=\"data row3 col0\" >28.00</td>\n",
              "      <td id=\"T_fe416_row3_col1\" class=\"data row3 col1\" >0.00</td>\n",
              "      <td id=\"T_fe416_row3_col2\" class=\"data row3 col2\" >0.00</td>\n",
              "      <td id=\"T_fe416_row3_col3\" class=\"data row3 col3\" >0.00</td>\n",
              "      <td id=\"T_fe416_row3_col4\" class=\"data row3 col4\" >60.00</td>\n",
              "      <td id=\"T_fe416_row3_col5\" class=\"data row3 col5\" >-2.60</td>\n",
              "      <td id=\"T_fe416_row3_col6\" class=\"data row3 col6\" >0.00</td>\n",
              "    </tr>\n",
              "    <tr>\n",
              "      <th id=\"T_fe416_level0_row4\" class=\"row_heading level0 row4\" >25%</th>\n",
              "      <td id=\"T_fe416_row4_col0\" class=\"data row4 col0\" >47.00</td>\n",
              "      <td id=\"T_fe416_row4_col1\" class=\"data row4 col1\" >120.00</td>\n",
              "      <td id=\"T_fe416_row4_col2\" class=\"data row4 col2\" >173.25</td>\n",
              "      <td id=\"T_fe416_row4_col3\" class=\"data row4 col3\" >0.00</td>\n",
              "      <td id=\"T_fe416_row4_col4\" class=\"data row4 col4\" >120.00</td>\n",
              "      <td id=\"T_fe416_row4_col5\" class=\"data row4 col5\" >0.00</td>\n",
              "      <td id=\"T_fe416_row4_col6\" class=\"data row4 col6\" >0.00</td>\n",
              "    </tr>\n",
              "    <tr>\n",
              "      <th id=\"T_fe416_level0_row5\" class=\"row_heading level0 row5\" >50%</th>\n",
              "      <td id=\"T_fe416_row5_col0\" class=\"data row5 col0\" >54.00</td>\n",
              "      <td id=\"T_fe416_row5_col1\" class=\"data row5 col1\" >130.00</td>\n",
              "      <td id=\"T_fe416_row5_col2\" class=\"data row5 col2\" >223.00</td>\n",
              "      <td id=\"T_fe416_row5_col3\" class=\"data row5 col3\" >0.00</td>\n",
              "      <td id=\"T_fe416_row5_col4\" class=\"data row5 col4\" >138.00</td>\n",
              "      <td id=\"T_fe416_row5_col5\" class=\"data row5 col5\" >0.60</td>\n",
              "      <td id=\"T_fe416_row5_col6\" class=\"data row5 col6\" >1.00</td>\n",
              "    </tr>\n",
              "    <tr>\n",
              "      <th id=\"T_fe416_level0_row6\" class=\"row_heading level0 row6\" >75%</th>\n",
              "      <td id=\"T_fe416_row6_col0\" class=\"data row6 col0\" >60.00</td>\n",
              "      <td id=\"T_fe416_row6_col1\" class=\"data row6 col1\" >140.00</td>\n",
              "      <td id=\"T_fe416_row6_col2\" class=\"data row6 col2\" >267.00</td>\n",
              "      <td id=\"T_fe416_row6_col3\" class=\"data row6 col3\" >0.00</td>\n",
              "      <td id=\"T_fe416_row6_col4\" class=\"data row6 col4\" >156.00</td>\n",
              "      <td id=\"T_fe416_row6_col5\" class=\"data row6 col5\" >1.50</td>\n",
              "      <td id=\"T_fe416_row6_col6\" class=\"data row6 col6\" >1.00</td>\n",
              "    </tr>\n",
              "    <tr>\n",
              "      <th id=\"T_fe416_level0_row7\" class=\"row_heading level0 row7\" >max</th>\n",
              "      <td id=\"T_fe416_row7_col0\" class=\"data row7 col0\" >77.00</td>\n",
              "      <td id=\"T_fe416_row7_col1\" class=\"data row7 col1\" >200.00</td>\n",
              "      <td id=\"T_fe416_row7_col2\" class=\"data row7 col2\" >603.00</td>\n",
              "      <td id=\"T_fe416_row7_col3\" class=\"data row7 col3\" >1.00</td>\n",
              "      <td id=\"T_fe416_row7_col4\" class=\"data row7 col4\" >202.00</td>\n",
              "      <td id=\"T_fe416_row7_col5\" class=\"data row7 col5\" >6.20</td>\n",
              "      <td id=\"T_fe416_row7_col6\" class=\"data row7 col6\" >1.00</td>\n",
              "    </tr>\n",
              "  </tbody>\n",
              "</table>\n"
            ]
          },
          "metadata": {},
          "execution_count": 140
        }
      ],
      "source": [
        "#look at some statistics \n",
        "df.describe().style.background_gradient()"
      ]
    },
    {
      "cell_type": "code",
      "execution_count": 141,
      "metadata": {
        "colab": {
          "base_uri": "https://localhost:8080/",
          "height": 0
        },
        "id": "o0xlBfniOd_b",
        "outputId": "74a9e47f-535a-4cf3-af71-db665065d34b"
      },
      "outputs": [
        {
          "output_type": "execute_result",
          "data": {
            "text/plain": [
              "Text(0.5, 1.0, 'Heatmap')"
            ]
          },
          "metadata": {},
          "execution_count": 141
        },
        {
          "output_type": "display_data",
          "data": {
            "text/plain": [
              "<Figure size 576x432 with 2 Axes>"
            ],
            "image/png": "[encoded data removed]"
          },
          "metadata": {
            "needs_background": "light"
          }
        }
      ],
      "source": [
        "#look at the corelation between features\n",
        "plt.figure(figsize=(8,6))\n",
        "sns.heatmap(df.corr(),annot=True)\n",
        "plt.title(\"Heatmap\")"
      ]
    },
    {
      "cell_type": "code",
      "execution_count": 142,
      "metadata": {
        "colab": {
          "base_uri": "https://localhost:8080/",
          "height": 0
        },
        "id": "N0zomTeiTBX9",
        "outputId": "230d8b4e-ad0c-4034-bd24-8879bd1e90bf"
      },
      "outputs": [
        {
          "output_type": "execute_result",
          "data": {
            "text/plain": [
              "Text(0.5, 1.0, 'Heatmap')"
            ]
          },
          "metadata": {},
          "execution_count": 142
        },
        {
          "output_type": "display_data",
          "data": {
            "text/plain": [
              "<Figure size 792x648 with 2 Axes>"
            ],
            "image/png": "[encoded data removed]"
          },
          "metadata": {
            "needs_background": "light"
          }
        }
      ],
      "source": [
        "corr=df.corr()\n",
        "mask = np.zeros_like(corr, dtype=np.bool)\n",
        "mask[np.triu_indices_from(mask)] = True\n",
        "# Set up the matplotlib figure\n",
        "f, ax = plt.subplots(figsize=(11, 9))\n",
        "# Generate a custom diverging colormap\n",
        "cmap = sns.diverging_palette(220, 10, as_cmap=True)\n",
        "# Draw the heatmap with the mask and correct aspect ratio\n",
        "sns.heatmap(corr, mask=mask, cmap=cmap, vmax=.5, center=0, linewidths=.5, cbar_kws={\"shrink\": .5})\n",
        "plt.title(\"Heatmap\")"
      ]
    },
    {
      "cell_type": "code",
      "source": [
        "#function to look at unique values in each feature\n",
        "def unique_values (data_set):\n",
        "  col = []\n",
        "  col_unique = []\n",
        "  col_nunique = []\n",
        "  for i in data_set.columns:\n",
        "\n",
        "    col.append(i)\n",
        "    col_unique.append(data_set[i].unique())\n",
        "    col_nunique.append(data_set[i].nunique())\n",
        "  return pd.DataFrame({'columns' : col , 'uniques' : col_unique , ' nunique' : col_nunique})\n"
      ],
      "metadata": {
        "id": "FL9Hde5ZJNBR"
      },
      "execution_count": 143,
      "outputs": []
    },
    {
      "cell_type": "code",
      "source": [
        "#show unique values and number of them in eah feature\n",
        "unique_values(df)"
      ],
      "metadata": {
        "colab": {
          "base_uri": "https://localhost:8080/",
          "height": 0
        },
        "id": "KJYP-D4ZJOsy",
        "outputId": "994e31ec-db78-4653-c035-a646344d81ea"
      },
      "execution_count": 144,
      "outputs": [
        {
          "output_type": "execute_result",
          "data": {
            "text/plain": [
              "           columns                                            uniques  \\\n",
              "0              Age  [40, 49, 37, 48, 54, 39, 45, 58, 42, 38, 43, 6...   \n",
              "1              Sex                                             [M, F]   \n",
              "2    ChestPainType                                [ATA, NAP, ASY, TA]   \n",
              "3        RestingBP  [140, 160, 130, 138, 150, 120, 110, 136, 115, ...   \n",
              "4      Cholesterol  [289, 180, 283, 214, 195, 339, 237, 208, 207, ...   \n",
              "5        FastingBS                                             [0, 1]   \n",
              "6       RestingECG                                  [Normal, ST, LVH]   \n",
              "7            MaxHR  [172, 156, 98, 108, 122, 170, 142, 130, 120, 9...   \n",
              "8   ExerciseAngina                                             [N, Y]   \n",
              "9          Oldpeak  [0.0, 1.0, 1.5, 2.0, 3.0, 4.0, 0.5, 2.5, 5.0, ...   \n",
              "10        ST_Slope                                   [Up, Flat, Down]   \n",
              "11    HeartDisease                                             [0, 1]   \n",
              "\n",
              "     nunique  \n",
              "0         50  \n",
              "1          2  \n",
              "2          4  \n",
              "3         67  \n",
              "4        222  \n",
              "5          2  \n",
              "6          3  \n",
              "7        119  \n",
              "8          2  \n",
              "9         53  \n",
              "10         3  \n",
              "11         2  "
            ],
            "text/html": [
              "\n",
              "  <div id=\"df-88945ad6-b845-4c48-b08c-dd119827a60e\">\n",
              "    <div class=\"colab-df-container\">\n",
              "      <div>\n",
              "<style scoped>\n",
              "    .dataframe tbody tr th:only-of-type {\n",
              "        vertical-align: middle;\n",
              "    }\n",
              "\n",
              "    .dataframe tbody tr th {\n",
              "        vertical-align: top;\n",
              "    }\n",
              "\n",
              "    .dataframe thead th {\n",
              "        text-align: right;\n",
              "    }\n",
              "</style>\n",
              "<table border=\"1\" class=\"dataframe\">\n",
              "  <thead>\n",
              "    <tr style=\"text-align: right;\">\n",
              "      <th></th>\n",
              "      <th>columns</th>\n",
              "      <th>uniques</th>\n",
              "      <th>nunique</th>\n",
              "    </tr>\n",
              "  </thead>\n",
              "  <tbody>\n",
              "    <tr>\n",
              "      <th>0</th>\n",
              "      <td>Age</td>\n",
              "      <td>[40, 49, 37, 48, 54, 39, 45, 58, 42, 38, 43, 6...</td>\n",
              "      <td>50</td>\n",
              "    </tr>\n",
              "    <tr>\n",
              "      <th>1</th>\n",
              "      <td>Sex</td>\n",
              "      <td>[M, F]</td>\n",
              "      <td>2</td>\n",
              "    </tr>\n",
              "    <tr>\n",
              "      <th>2</th>\n",
              "      <td>ChestPainType</td>\n",
              "      <td>[ATA, NAP, ASY, TA]</td>\n",
              "      <td>4</td>\n",
              "    </tr>\n",
              "    <tr>\n",
              "      <th>3</th>\n",
              "      <td>RestingBP</td>\n",
              "      <td>[140, 160, 130, 138, 150, 120, 110, 136, 115, ...</td>\n",
              "      <td>67</td>\n",
              "    </tr>\n",
              "    <tr>\n",
              "      <th>4</th>\n",
              "      <td>Cholesterol</td>\n",
              "      <td>[289, 180, 283, 214, 195, 339, 237, 208, 207, ...</td>\n",
              "      <td>222</td>\n",
              "    </tr>\n",
              "    <tr>\n",
              "      <th>5</th>\n",
              "      <td>FastingBS</td>\n",
              "      <td>[0, 1]</td>\n",
              "      <td>2</td>\n",
              "    </tr>\n",
              "    <tr>\n",
              "      <th>6</th>\n",
              "      <td>RestingECG</td>\n",
              "      <td>[Normal, ST, LVH]</td>\n",
              "      <td>3</td>\n",
              "    </tr>\n",
              "    <tr>\n",
              "      <th>7</th>\n",
              "      <td>MaxHR</td>\n",
              "      <td>[172, 156, 98, 108, 122, 170, 142, 130, 120, 9...</td>\n",
              "      <td>119</td>\n",
              "    </tr>\n",
              "    <tr>\n",
              "      <th>8</th>\n",
              "      <td>ExerciseAngina</td>\n",
              "      <td>[N, Y]</td>\n",
              "      <td>2</td>\n",
              "    </tr>\n",
              "    <tr>\n",
              "      <th>9</th>\n",
              "      <td>Oldpeak</td>\n",
              "      <td>[0.0, 1.0, 1.5, 2.0, 3.0, 4.0, 0.5, 2.5, 5.0, ...</td>\n",
              "      <td>53</td>\n",
              "    </tr>\n",
              "    <tr>\n",
              "      <th>10</th>\n",
              "      <td>ST_Slope</td>\n",
              "      <td>[Up, Flat, Down]</td>\n",
              "      <td>3</td>\n",
              "    </tr>\n",
              "    <tr>\n",
              "      <th>11</th>\n",
              "      <td>HeartDisease</td>\n",
              "      <td>[0, 1]</td>\n",
              "      <td>2</td>\n",
              "    </tr>\n",
              "  </tbody>\n",
              "</table>\n",
              "</div>\n",
              "      <button class=\"colab-df-convert\" onclick=\"convertToInteractive('df-88945ad6-b845-4c48-b08c-dd119827a60e')\"\n",
              "              title=\"Convert this dataframe to an interactive table.\"\n",
              "              style=\"display:none;\">\n",
              "        \n",
              "  <svg xmlns=\"http://www.w3.org/2000/svg\" height=\"24px\"viewBox=\"0 0 24 24\"\n",
              "       width=\"24px\">\n",
              "    <path d=\"M0 0h24v24H0V0z\" fill=\"none\"/>\n",
              "    <path d=\"M18.56 5.44l.94 2.06.94-2.06 2.06-.94-2.06-.94-.94-2.06-.94 2.06-2.06.94zm-11 1L8.5 8.5l.94-2.06 2.06-.94-2.06-.94L8.5 2.5l-.94 2.06-2.06.94zm10 10l.94 2.06.94-2.06 2.06-.94-2.06-.94-.94-2.06-.94 2.06-2.06.94z\"/><path d=\"M17.41 7.96l-1.37-1.37c-.4-.4-.92-.59-1.43-.59-.52 0-1.04.2-1.43.59L10.3 9.45l-7.72 7.72c-.78.78-.78 2.05 0 2.83L4 21.41c.39.39.9.59 1.41.59.51 0 1.02-.2 1.41-.59l7.78-7.78 2.81-2.81c.8-.78.8-2.07 0-2.86zM5.41 20L4 18.59l7.72-7.72 1.47 1.35L5.41 20z\"/>\n",
              "  </svg>\n",
              "      </button>\n",
              "      \n",
              "  <style>\n",
              "    .colab-df-container {\n",
              "      display:flex;\n",
              "      flex-wrap:wrap;\n",
              "      gap: 12px;\n",
              "    }\n",
              "\n",
              "    .colab-df-convert {\n",
              "      background-color: #E8F0FE;\n",
              "      border: none;\n",
              "      border-radius: 50%;\n",
              "      cursor: pointer;\n",
              "      display: none;\n",
              "      fill: #1967D2;\n",
              "      height: 32px;\n",
              "      padding: 0 0 0 0;\n",
              "      width: 32px;\n",
              "    }\n",
              "\n",
              "    .colab-df-convert:hover {\n",
              "      background-color: #E2EBFA;\n",
              "      box-shadow: 0px 1px 2px rgba(60, 64, 67, 0.3), 0px 1px 3px 1px rgba(60, 64, 67, 0.15);\n",
              "      fill: #174EA6;\n",
              "    }\n",
              "\n",
              "    [theme=dark] .colab-df-convert {\n",
              "      background-color: #3B4455;\n",
              "      fill: #D2E3FC;\n",
              "    }\n",
              "\n",
              "    [theme=dark] .colab-df-convert:hover {\n",
              "      background-color: #434B5C;\n",
              "      box-shadow: 0px 1px 3px 1px rgba(0, 0, 0, 0.15);\n",
              "      filter: drop-shadow(0px 1px 2px rgba(0, 0, 0, 0.3));\n",
              "      fill: #FFFFFF;\n",
              "    }\n",
              "  </style>\n",
              "\n",
              "      <script>\n",
              "        const buttonEl =\n",
              "          document.querySelector('#df-88945ad6-b845-4c48-b08c-dd119827a60e button.colab-df-convert');\n",
              "        buttonEl.style.display =\n",
              "          google.colab.kernel.accessAllowed ? 'block' : 'none';\n",
              "\n",
              "        async function convertToInteractive(key) {\n",
              "          const element = document.querySelector('#df-88945ad6-b845-4c48-b08c-dd119827a60e');\n",
              "          const dataTable =\n",
              "            await google.colab.kernel.invokeFunction('convertToInteractive',\n",
              "                                                     [key], {});\n",
              "          if (!dataTable) return;\n",
              "\n",
              "          const docLinkHtml = 'Like what you see? Visit the ' +\n",
              "            '<a target=\"_blank\" href=https://colab.research.google.com/notebooks/data_table.ipynb>data table notebook</a>'\n",
              "            + ' to learn more about interactive tables.';\n",
              "          element.innerHTML = '';\n",
              "          dataTable['output_type'] = 'display_data';\n",
              "          await google.colab.output.renderOutput(dataTable, element);\n",
              "          const docLink = document.createElement('div');\n",
              "          docLink.innerHTML = docLinkHtml;\n",
              "          element.appendChild(docLink);\n",
              "        }\n",
              "      </script>\n",
              "    </div>\n",
              "  </div>\n",
              "  "
            ]
          },
          "metadata": {},
          "execution_count": 144
        }
      ]
    },
    {
      "cell_type": "markdown",
      "metadata": {
        "id": "K_IsfEMpUfi6"
      },
      "source": [
        "#Functions"
      ]
    },
    {
      "cell_type": "code",
      "execution_count": 145,
      "metadata": {
        "id": "LAplSht0UD8p"
      },
      "outputs": [],
      "source": [
        "#function to diplay boxplot of four features\n",
        "def plot_box(f1,f2,f3,f4):\n",
        "   fig,axes=plt.subplots(2,2,figsize=(15,12))\n",
        "   sns.boxplot(data=df,x=f1,ax=axes[0,0]).set_title(f1)\n",
        "   sns.boxplot(data=df,x=f2,ax=axes[0,1]).set_title(f2)\n",
        "   sns.boxplot(data=df,x=f3,ax=axes[1,0]).set_title(f3)\n",
        "   sns.boxplot(data=df,x=f4,ax=axes[1,1]).set_title(f4)"
      ]
    },
    {
      "cell_type": "code",
      "execution_count": 146,
      "metadata": {
        "id": "GP4ludaWcdVE"
      },
      "outputs": [],
      "source": [
        "#function to get classification report\n",
        "def get_report(ytest,ypred):\n",
        "  from sklearn.metrics import classification_report\n",
        "  print(classification_report(ytest,ypred))"
      ]
    },
    {
      "cell_type": "code",
      "execution_count": 147,
      "metadata": {
        "id": "nAYdvAOlcY7a"
      },
      "outputs": [],
      "source": [
        "#function to get confusion matrix\n",
        "def get_confm(ytest,ypred):\n",
        "  from sklearn.metrics import confusion_matrix\n",
        "  conf_m=confusion_matrix(ytest,ypred)\n",
        "  sns.heatmap(conf_m,annot=True,cmap='plasma')\n",
        "  plt.title(\"Confusion Matrix\",fontsize=14)\n",
        "\n",
        "\n",
        "# plot_confusion_matrix(classifier, X_test, y_test,cmap='plasma')\n",
        "# plt.title('Naive: Confusion Matrix', fontsize=14)\n",
        "# plt.show()"
      ]
    },
    {
      "cell_type": "code",
      "execution_count": 148,
      "metadata": {
        "id": "QuGzSj70cIM9"
      },
      "outputs": [],
      "source": [
        "#function to check Errors\n",
        "def check_Errors(ytest,ypred):\n",
        "  from sklearn import metrics\n",
        "\n",
        "  accuracy=metrics.accuracy_score(ytest,ypred)\n",
        "  precision=metrics.precision_score(ytest,ypred)\n",
        "  f1_score=metrics.f1_score(ytest,ypred)\n",
        "  recall=metrics.recall_score(ytest,ypred)\n",
        "\n",
        "  print(f\"Accuracy score of model is: {100*accuracy:.3} %\")\n",
        "  print(f\"precision score of model is: {100*precision:.3} %\")\n",
        "  print(f\"f1_score score of model is: {100*f1_score:.3} %\")\n",
        "  print(f\"recall score of model is: {100*recall:.3} %\")"
      ]
    },
    {
      "cell_type": "code",
      "execution_count": 149,
      "metadata": {
        "id": "UrvgryDYcUsB"
      },
      "outputs": [],
      "source": [
        "#function to plot ROC curve and get AUC\n",
        "def plot_roc(ytest,ypredp):\n",
        "  from sklearn.metrics import roc_curve,roc_auc_score\n",
        "  fbr,tbr,thresholds=roc_curve(ytest,ypredp[:,1])\n",
        "  plt.plot(fbr,tbr)\n",
        "  plt.plot([0,1],[0,1],'k--',c='red')\n",
        "  plt.xlabel(\"False Postive Rate\")\n",
        "  plt.ylabel(\"True Postive Rate\")\n",
        "  plt.title(\"ROC Curve\")\n",
        "  plt.show()\n",
        "  print('______________________________________________________________')\n",
        "  print(\" \")\n",
        "  auc=roc_auc_score(ytest,ypredp[:,1])\n",
        "  print(f\"AUC is: {100*auc:.3} %\")"
      ]
    },
    {
      "cell_type": "code",
      "execution_count": 150,
      "metadata": {
        "id": "9ViN3PI-cfLQ"
      },
      "outputs": [],
      "source": [
        "#func to check model\n",
        "def check_model(ytest,ypred):\n",
        "   get_report(ytest,ypred)\n",
        "   print(\"______________________________________________________________________________\")  \n",
        "   print(\" \")\n",
        "   get_confm(ytest,ypred)\n",
        "   print(\" \")\n",
        "   check_Errors(ytest,ypred)\n",
        "   print(\" \")\n",
        "   print(\"______________________________________________________________________________\")  \n",
        "   print(\" \")\n"
      ]
    },
    {
      "cell_type": "markdown",
      "source": [
        "# EDA"
      ],
      "metadata": {
        "id": "aTEUp8TlA1y1"
      }
    },
    {
      "cell_type": "code",
      "source": [
        "df.columns"
      ],
      "metadata": {
        "colab": {
          "base_uri": "https://localhost:8080/"
        },
        "id": "C4nQWDNsFXu7",
        "outputId": "82d4a63b-cd24-43b0-e620-52ef52322ad2"
      },
      "execution_count": 151,
      "outputs": [
        {
          "output_type": "execute_result",
          "data": {
            "text/plain": [
              "Index(['Age', 'Sex', 'ChestPainType', 'RestingBP', 'Cholesterol', 'FastingBS',\n",
              "       'RestingECG', 'MaxHR', 'ExerciseAngina', 'Oldpeak', 'ST_Slope',\n",
              "       'HeartDisease'],\n",
              "      dtype='object')"
            ]
          },
          "metadata": {},
          "execution_count": 151
        }
      ]
    },
    {
      "cell_type": "markdown",
      "source": [
        "**Distrubtion of heart diseases**"
      ],
      "metadata": {
        "id": "aEsrJsoAQxqZ"
      }
    },
    {
      "cell_type": "code",
      "source": [
        "# Plotting attrition of employees\n",
        "fig, (ax1, ax2) = plt.subplots(nrows=1, ncols=2, sharey=False, figsize=(14,6))\n",
        "\n",
        "ax1 = df['HeartDisease'].value_counts().plot.pie( x=\"Heart disease\" ,y ='no.of patients', \n",
        "                   autopct = \"%1.0f%%\",labels=[\"Heart Disease\",\"Normal\"], startangle = 60,ax=ax1);\n",
        "ax1.set(title = 'Percentage of Heart disease patients in Dataset')\n",
        "\n",
        "ax2 = df[\"HeartDisease\"].value_counts().plot(kind=\"barh\" ,ax =ax2)\n",
        "for i,j in enumerate(df[\"HeartDisease\"].value_counts().values):\n",
        "    ax2.text(.5,i,j,fontsize=12)\n",
        "ax2.set(title = 'No. of Heart disease patients in Dataset')\n",
        "plt.show()"
      ],
      "metadata": {
        "colab": {
          "base_uri": "https://localhost:8080/",
          "height": 0
        },
        "id": "8BjgXwTQUBdW",
        "outputId": "5dd3edbf-059e-4dab-aafa-32a7e69b17a2"
      },
      "execution_count": 152,
      "outputs": [
        {
          "output_type": "display_data",
          "data": {
            "text/plain": [
              "<Figure size 1008x432 with 2 Axes>"
            ],
            "image/png": "[encoded data removed]"
          },
          "metadata": {
            "needs_background": "light"
          }
        }
      ]
    },
    {
      "cell_type": "markdown",
      "source": [
        "The dataset is balanced having 508 abnormal and 410 normal patient"
      ],
      "metadata": {
        "id": "YyXGnDeGUkH4"
      }
    },
    {
      "cell_type": "markdown",
      "source": [
        "**Checking Gender & Agewise Distribution**"
      ],
      "metadata": {
        "id": "yNlQ7hjzU8lE"
      }
    },
    {
      "cell_type": "code",
      "source": [
        "plt.figure(figsize=(18,12))\n",
        "plt.subplot(221)\n",
        "df[\"Sex\"].value_counts().plot.pie(autopct = \"%1.0f%%\",colors = sns.color_palette(\"prism\",5),startangle = 60,labels=[\"Male\",\"Female\"],\n",
        "wedgeprops={\"linewidth\":2,\"edgecolor\":\"k\"},explode=[.1,.1],shadow =True)\n",
        "plt.title(\"Distribution of Gender\")\n",
        "plt.subplot(222)\n",
        "ax= sns.distplot(df['Age'], rug=True)\n",
        "plt.title(\"Age wise distribution\")\n",
        "plt.show()"
      ],
      "metadata": {
        "colab": {
          "base_uri": "https://localhost:8080/",
          "height": 0
        },
        "id": "omPKsbGzlvld",
        "outputId": "63237d17-e30b-4714-8876-bea06e87868a"
      },
      "execution_count": 153,
      "outputs": [
        {
          "output_type": "display_data",
          "data": {
            "text/plain": [
              "<Figure size 1296x864 with 2 Axes>"
            ],
            "image/png": "[encoded data removed]"
          },
          "metadata": {
            "needs_background": "light"
          }
        }
      ]
    },
    {
      "cell_type": "markdown",
      "source": [
        "The precantge of male is greater than females\n",
        "\n",
        "age range from 20 to 80"
      ],
      "metadata": {
        "id": "GUvRmrq-mCE-"
      }
    },
    {
      "cell_type": "code",
      "source": [
        "# creating separate df for normal and heart patients\n",
        "\n",
        "attr_1=df[df['HeartDisease']==1]\n",
        "\n",
        "attr_0=df[df['HeartDisease']==0]\n",
        "\n",
        "# plotting normal patients\n",
        "fig = plt.figure(figsize=(15,5))\n",
        "ax1 = plt.subplot2grid((1,2),(0,0))\n",
        "sns.distplot(attr_0['Age'])\n",
        "plt.title('AGE DISTRIBUTION OF NORMAL PATIENTS', fontsize=15, weight='bold')\n",
        "\n",
        "ax1 = plt.subplot2grid((1,2),(0,1))\n",
        "sns.countplot(attr_0['Sex'], palette='viridis')\n",
        "plt.title('GENDER DISTRIBUTION OF NORMAL PATIENTS', fontsize=15, weight='bold' )\n",
        "plt.show()\n",
        "\n",
        "#plotting heart patients\n",
        "\n",
        "fig = plt.figure(figsize=(15,5))\n",
        "ax1 = plt.subplot2grid((1,2),(0,0))\n",
        "sns.distplot(attr_1['Age'])\n",
        "plt.title('AGE DISTRIBUTION OF HEART DISEASE PATIENTS', fontsize=15, weight='bold')\n",
        "\n",
        "ax1 = plt.subplot2grid((1,2),(0,1))\n",
        "sns.countplot(attr_1['Sex'], palette='viridis')\n",
        "plt.title('GENDER DISTRIBUTION OF HEART DISEASE PATIENTS', fontsize=15, weight='bold' )\n",
        "plt.show()"
      ],
      "metadata": {
        "colab": {
          "base_uri": "https://localhost:8080/",
          "height": 0
        },
        "id": "q6W4y5Mxqn6C",
        "outputId": "0a999f71-12bd-420b-9e11-1a227c8bed0a"
      },
      "execution_count": 154,
      "outputs": [
        {
          "output_type": "display_data",
          "data": {
            "text/plain": [
              "<Figure size 1080x360 with 2 Axes>"
            ],
            "image/png": "[encoded data removed]"
          },
          "metadata": {
            "needs_background": "light"
          }
        },
        {
          "output_type": "display_data",
          "data": {
            "text/plain": [
              "<Figure size 1080x360 with 2 Axes>"
            ],
            "image/png": "[encoded data removed]"
          },
          "metadata": {
            "needs_background": "light"
          }
        }
      ]
    },
    {
      "cell_type": "markdown",
      "source": [
        "patient have greater age than normal people"
      ],
      "metadata": {
        "id": "Il6zUyOKF_B1"
      }
    },
    {
      "cell_type": "code",
      "source": [
        "# plotting normal patients\n",
        "fig = plt.figure(figsize=(15,5))\n",
        "ax1 = plt.subplot2grid((1,2),(0,0))\n",
        "sns.countplot(attr_0['ChestPainType'])\n",
        "plt.title('CHEST PAIN OF NORMAL PATIENTS', fontsize=15, weight='bold')\n",
        "\n",
        "#plotting heart patients\n",
        "ax1 = plt.subplot2grid((1,2),(0,1))\n",
        "sns.countplot(attr_1['ChestPainType'], palette='viridis')\n",
        "plt.title('CHEST PAIN OF HEART PATIENTS', fontsize=15, weight='bold' )\n",
        "plt.show()"
      ],
      "metadata": {
        "colab": {
          "base_uri": "https://localhost:8080/",
          "height": 0
        },
        "id": "sRrmndDBtVh5",
        "outputId": "dd81694d-58a3-4f98-ff85-49766cf1b42a"
      },
      "execution_count": 155,
      "outputs": [
        {
          "output_type": "display_data",
          "data": {
            "text/plain": [
              "<Figure size 1080x360 with 2 Axes>"
            ],
            "image/png": "[encoded data removed]"
          },
          "metadata": {
            "needs_background": "light"
          }
        }
      ]
    },
    {
      "cell_type": "markdown",
      "source": [
        "Chestpaintype ASY are most heartpatients"
      ],
      "metadata": {
        "id": "E6qGvUgDGffK"
      }
    },
    {
      "cell_type": "code",
      "source": [
        "# plotting normal patients\n",
        "fig = plt.figure(figsize=(15,5))\n",
        "ax1 = plt.subplot2grid((1,2),(0,0))\n",
        "sns.countplot(attr_0['RestingECG'])\n",
        "plt.title('REST ECG OF NORMAL PATIENTS', fontsize=15, weight='bold')\n",
        "\n",
        "#plotting heart patients\n",
        "ax1 = plt.subplot2grid((1,2),(0,1))\n",
        "sns.countplot(attr_1['RestingECG'], palette='viridis')\n",
        "plt.title('REST ECG OF HEART PATIENTS', fontsize=15, weight='bold' )\n",
        "plt.show()"
      ],
      "metadata": {
        "colab": {
          "base_uri": "https://localhost:8080/",
          "height": 0
        },
        "id": "o2uuIjqdt1Tb",
        "outputId": "d0342812-edd2-4041-b22d-7f78cbb15502"
      },
      "execution_count": 156,
      "outputs": [
        {
          "output_type": "display_data",
          "data": {
            "text/plain": [
              "<Figure size 1080x360 with 2 Axes>"
            ],
            "image/png": "[encoded data removed]"
          },
          "metadata": {
            "needs_background": "light"
          }
        }
      ]
    },
    {
      "cell_type": "code",
      "source": [
        "# plotting normal patients\n",
        "fig = plt.figure(figsize=(15,5))\n",
        "ax1 = plt.subplot2grid((1,2),(0,0))\n",
        "sns.countplot(attr_0['ST_Slope'])\n",
        "plt.title('ST SLOPE OF NORMAL PATIENTS', fontsize=15, weight='bold')\n",
        "\n",
        "#plotting heart patients\n",
        "ax1 = plt.subplot2grid((1,2),(0,1))\n",
        "sns.countplot(attr_1['ST_Slope'], palette='viridis')\n",
        "plt.title('ST SLOPE OF HEART PATIENTS', fontsize=15, weight='bold' )\n",
        "plt.show()"
      ],
      "metadata": {
        "colab": {
          "base_uri": "https://localhost:8080/",
          "height": 0
        },
        "id": "3ErHVx8EudRO",
        "outputId": "5c3ce711-20d2-4157-8bb1-71c403afb225"
      },
      "execution_count": 157,
      "outputs": [
        {
          "output_type": "display_data",
          "data": {
            "text/plain": [
              "<Figure size 1080x360 with 2 Axes>"
            ],
            "image/png": "[encoded data removed]"
          },
          "metadata": {
            "needs_background": "light"
          }
        }
      ]
    },
    {
      "cell_type": "markdown",
      "source": [
        "most heart patient is with *flat* St_slope\n",
        "while normal with *UP*"
      ],
      "metadata": {
        "id": "LoZ8T4w7G40Y"
      }
    },
    {
      "cell_type": "code",
      "source": [
        "sns.pairplot(df, hue = 'HeartDisease', vars = ['Age', 'RestingBP', 'Cholesterol'] )"
      ],
      "metadata": {
        "colab": {
          "base_uri": "https://localhost:8080/",
          "height": 0
        },
        "id": "uUu9abnSuocg",
        "outputId": "11828729-b5a7-4889-cf2c-689dd1d1ea92"
      },
      "execution_count": 158,
      "outputs": [
        {
          "output_type": "execute_result",
          "data": {
            "text/plain": [
              "<seaborn.axisgrid.PairGrid at 0x7f6cc75ed460>"
            ]
          },
          "metadata": {},
          "execution_count": 158
        },
        {
          "output_type": "display_data",
          "data": {
            "text/plain": [
              "<Figure size 615.25x540 with 12 Axes>"
            ],
            "image/png": "[encoded data removed]"
          },
          "metadata": {
            "needs_background": "light"
          }
        }
      ]
    },
    {
      "cell_type": "code",
      "source": [
        "#look at outliers\n",
        "plot_box('Age','RestingBP','Cholesterol','MaxHR')"
      ],
      "metadata": {
        "colab": {
          "base_uri": "https://localhost:8080/",
          "height": 0
        },
        "id": "vjg9x6XCxux7",
        "outputId": "2b6ec334-f5b2-4828-c10c-185f9c1dd7c4"
      },
      "execution_count": 159,
      "outputs": [
        {
          "output_type": "display_data",
          "data": {
            "text/plain": [
              "<Figure size 1080x864 with 4 Axes>"
            ],
            "image/png": "[encoded data removed]"
          },
          "metadata": {
            "needs_background": "light"
          }
        }
      ]
    },
    {
      "cell_type": "markdown",
      "source": [
        "There is outliers in Cholestrol and Resting BP so we need to remove them because they will affect the preformance if the model"
      ],
      "metadata": {
        "id": "6-Wo9VLtyO9A"
      }
    },
    {
      "cell_type": "code",
      "source": [
        "# filtering numeric features as age , resting bp, cholestrol and max heart rate achieved has outliers as per EDA\n",
        "\n",
        "df_numeric = df[['Age','RestingBP','Cholesterol','MaxHR']]"
      ],
      "metadata": {
        "id": "zyQq9UNCTK03"
      },
      "execution_count": 160,
      "outputs": []
    },
    {
      "cell_type": "code",
      "source": [
        "df_numeric.head()"
      ],
      "metadata": {
        "colab": {
          "base_uri": "https://localhost:8080/",
          "height": 0
        },
        "id": "3cYY3bTJTbLC",
        "outputId": "dbe37608-e9f4-4461-c5e4-7307eaedafa2"
      },
      "execution_count": 161,
      "outputs": [
        {
          "output_type": "execute_result",
          "data": {
            "text/plain": [
              "   Age  RestingBP  Cholesterol  MaxHR\n",
              "0   40        140          289    172\n",
              "1   49        160          180    156\n",
              "2   37        130          283     98\n",
              "3   48        138          214    108\n",
              "4   54        150          195    122"
            ],
            "text/html": [
              "\n",
              "  <div id=\"df-49dc9ccd-8500-4c11-becc-4af5835af25a\">\n",
              "    <div class=\"colab-df-container\">\n",
              "      <div>\n",
              "<style scoped>\n",
              "    .dataframe tbody tr th:only-of-type {\n",
              "        vertical-align: middle;\n",
              "    }\n",
              "\n",
              "    .dataframe tbody tr th {\n",
              "        vertical-align: top;\n",
              "    }\n",
              "\n",
              "    .dataframe thead th {\n",
              "        text-align: right;\n",
              "    }\n",
              "</style>\n",
              "<table border=\"1\" class=\"dataframe\">\n",
              "  <thead>\n",
              "    <tr style=\"text-align: right;\">\n",
              "      <th></th>\n",
              "      <th>Age</th>\n",
              "      <th>RestingBP</th>\n",
              "      <th>Cholesterol</th>\n",
              "      <th>MaxHR</th>\n",
              "    </tr>\n",
              "  </thead>\n",
              "  <tbody>\n",
              "    <tr>\n",
              "      <th>0</th>\n",
              "      <td>40</td>\n",
              "      <td>140</td>\n",
              "      <td>289</td>\n",
              "      <td>172</td>\n",
              "    </tr>\n",
              "    <tr>\n",
              "      <th>1</th>\n",
              "      <td>49</td>\n",
              "      <td>160</td>\n",
              "      <td>180</td>\n",
              "      <td>156</td>\n",
              "    </tr>\n",
              "    <tr>\n",
              "      <th>2</th>\n",
              "      <td>37</td>\n",
              "      <td>130</td>\n",
              "      <td>283</td>\n",
              "      <td>98</td>\n",
              "    </tr>\n",
              "    <tr>\n",
              "      <th>3</th>\n",
              "      <td>48</td>\n",
              "      <td>138</td>\n",
              "      <td>214</td>\n",
              "      <td>108</td>\n",
              "    </tr>\n",
              "    <tr>\n",
              "      <th>4</th>\n",
              "      <td>54</td>\n",
              "      <td>150</td>\n",
              "      <td>195</td>\n",
              "      <td>122</td>\n",
              "    </tr>\n",
              "  </tbody>\n",
              "</table>\n",
              "</div>\n",
              "      <button class=\"colab-df-convert\" onclick=\"convertToInteractive('df-49dc9ccd-8500-4c11-becc-4af5835af25a')\"\n",
              "              title=\"Convert this dataframe to an interactive table.\"\n",
              "              style=\"display:none;\">\n",
              "        \n",
              "  <svg xmlns=\"http://www.w3.org/2000/svg\" height=\"24px\"viewBox=\"0 0 24 24\"\n",
              "       width=\"24px\">\n",
              "    <path d=\"M0 0h24v24H0V0z\" fill=\"none\"/>\n",
              "    <path d=\"M18.56 5.44l.94 2.06.94-2.06 2.06-.94-2.06-.94-.94-2.06-.94 2.06-2.06.94zm-11 1L8.5 8.5l.94-2.06 2.06-.94-2.06-.94L8.5 2.5l-.94 2.06-2.06.94zm10 10l.94 2.06.94-2.06 2.06-.94-2.06-.94-.94-2.06-.94 2.06-2.06.94z\"/><path d=\"M17.41 7.96l-1.37-1.37c-.4-.4-.92-.59-1.43-.59-.52 0-1.04.2-1.43.59L10.3 9.45l-7.72 7.72c-.78.78-.78 2.05 0 2.83L4 21.41c.39.39.9.59 1.41.59.51 0 1.02-.2 1.41-.59l7.78-7.78 2.81-2.81c.8-.78.8-2.07 0-2.86zM5.41 20L4 18.59l7.72-7.72 1.47 1.35L5.41 20z\"/>\n",
              "  </svg>\n",
              "      </button>\n",
              "      \n",
              "  <style>\n",
              "    .colab-df-container {\n",
              "      display:flex;\n",
              "      flex-wrap:wrap;\n",
              "      gap: 12px;\n",
              "    }\n",
              "\n",
              "    .colab-df-convert {\n",
              "      background-color: #E8F0FE;\n",
              "      border: none;\n",
              "      border-radius: 50%;\n",
              "      cursor: pointer;\n",
              "      display: none;\n",
              "      fill: #1967D2;\n",
              "      height: 32px;\n",
              "      padding: 0 0 0 0;\n",
              "      width: 32px;\n",
              "    }\n",
              "\n",
              "    .colab-df-convert:hover {\n",
              "      background-color: #E2EBFA;\n",
              "      box-shadow: 0px 1px 2px rgba(60, 64, 67, 0.3), 0px 1px 3px 1px rgba(60, 64, 67, 0.15);\n",
              "      fill: #174EA6;\n",
              "    }\n",
              "\n",
              "    [theme=dark] .colab-df-convert {\n",
              "      background-color: #3B4455;\n",
              "      fill: #D2E3FC;\n",
              "    }\n",
              "\n",
              "    [theme=dark] .colab-df-convert:hover {\n",
              "      background-color: #434B5C;\n",
              "      box-shadow: 0px 1px 3px 1px rgba(0, 0, 0, 0.15);\n",
              "      filter: drop-shadow(0px 1px 2px rgba(0, 0, 0, 0.3));\n",
              "      fill: #FFFFFF;\n",
              "    }\n",
              "  </style>\n",
              "\n",
              "      <script>\n",
              "        const buttonEl =\n",
              "          document.querySelector('#df-49dc9ccd-8500-4c11-becc-4af5835af25a button.colab-df-convert');\n",
              "        buttonEl.style.display =\n",
              "          google.colab.kernel.accessAllowed ? 'block' : 'none';\n",
              "\n",
              "        async function convertToInteractive(key) {\n",
              "          const element = document.querySelector('#df-49dc9ccd-8500-4c11-becc-4af5835af25a');\n",
              "          const dataTable =\n",
              "            await google.colab.kernel.invokeFunction('convertToInteractive',\n",
              "                                                     [key], {});\n",
              "          if (!dataTable) return;\n",
              "\n",
              "          const docLinkHtml = 'Like what you see? Visit the ' +\n",
              "            '<a target=\"_blank\" href=https://colab.research.google.com/notebooks/data_table.ipynb>data table notebook</a>'\n",
              "            + ' to learn more about interactive tables.';\n",
              "          element.innerHTML = '';\n",
              "          dataTable['output_type'] = 'display_data';\n",
              "          await google.colab.output.renderOutput(dataTable, element);\n",
              "          const docLink = document.createElement('div');\n",
              "          docLink.innerHTML = docLinkHtml;\n",
              "          element.appendChild(docLink);\n",
              "        }\n",
              "      </script>\n",
              "    </div>\n",
              "  </div>\n",
              "  "
            ]
          },
          "metadata": {},
          "execution_count": 161
        }
      ]
    },
    {
      "cell_type": "code",
      "source": [
        "# calculating zscore of numeric columns in the dataset\n",
        "from scipy import stats\n",
        "z = np.abs(stats.zscore(df_numeric))\n",
        "print(z)\n",
        "\n"
      ],
      "metadata": {
        "colab": {
          "base_uri": "https://localhost:8080/"
        },
        "id": "7IDSlkzTML9z",
        "outputId": "906bb2c7-2aec-47c1-caef-a55305c009b7"
      },
      "execution_count": 162,
      "outputs": [
        {
          "output_type": "stream",
          "name": "stdout",
          "text": [
            "     Age  RestingBP  Cholesterol  MaxHR\n",
            "0   1.43       0.41         0.83   1.38\n",
            "1   0.48       1.49         0.17   0.75\n",
            "2   1.75       0.13         0.77   1.53\n",
            "3   0.58       0.30         0.14   1.13\n",
            "4   0.05       0.95         0.03   0.58\n",
            "..   ...        ...          ...    ...\n",
            "913 0.90       1.21         0.60   0.19\n",
            "914 1.54       0.63         0.05   0.16\n",
            "915 0.37       0.13         0.62   0.86\n",
            "916 0.37       0.13         0.34   1.46\n",
            "917 1.65       0.30         0.22   1.42\n",
            "\n",
            "[918 rows x 4 columns]\n"
          ]
        }
      ]
    },
    {
      "cell_type": "code",
      "source": [
        "# Defining threshold for filtering outliers \n",
        "threshold = 3\n",
        "print(np.where(z > 3))"
      ],
      "metadata": {
        "colab": {
          "base_uri": "https://localhost:8080/"
        },
        "id": "MHRlfTLcUTiD",
        "outputId": "92af88be-be51-4103-d518-12df7279a412"
      },
      "execution_count": 163,
      "outputs": [
        {
          "output_type": "stream",
          "name": "stdout",
          "text": [
            "(array([ 76, 109, 149, 241, 365, 390, 399, 449, 592, 616, 732, 759]), array([2, 1, 2, 1, 1, 3, 1, 1, 1, 2, 1, 1]))\n"
          ]
        }
      ]
    },
    {
      "cell_type": "code",
      "source": [
        "#filtering outliers retaining only those data points which are below threshhold\n",
        "df = df[(z < 3).all(axis=1)]"
      ],
      "metadata": {
        "id": "ij31m0nMUYIb"
      },
      "execution_count": 164,
      "outputs": []
    },
    {
      "cell_type": "code",
      "source": [
        "df.shape\n",
        "#now the data have no outliers"
      ],
      "metadata": {
        "colab": {
          "base_uri": "https://localhost:8080/"
        },
        "id": "aLIqWNeeNK2W",
        "outputId": "de49baf8-c429-4ddd-b1f2-c11fb4600091"
      },
      "execution_count": 165,
      "outputs": [
        {
          "output_type": "execute_result",
          "data": {
            "text/plain": [
              "(906, 12)"
            ]
          },
          "metadata": {},
          "execution_count": 165
        }
      ]
    },
    {
      "cell_type": "markdown",
      "metadata": {
        "id": "09hMG9lJZZQe"
      },
      "source": [
        "# Prediction Models"
      ]
    },
    {
      "cell_type": "markdown",
      "source": [
        "**Applying label encoder**"
      ],
      "metadata": {
        "id": "ngBBsjeq-tC4"
      }
    },
    {
      "cell_type": "code",
      "source": [
        "#we must change categorical data to numeric data so that the model can fit on them better\n",
        "\n",
        "\n",
        "from sklearn.preprocessing import LabelEncoder\n",
        "\n",
        "cols = ['Sex', 'ChestPainType', 'FastingBS',\n",
        "       'RestingECG','ExerciseAngina', 'ST_Slope']\n",
        "#\n",
        "# Encode labels of multiple columns at once\n",
        "#\n",
        "df[cols] = df[cols].apply(LabelEncoder().fit_transform)\n",
        "#\n",
        "# Print head\n",
        "#\n",
        "df.head()"
      ],
      "metadata": {
        "colab": {
          "base_uri": "https://localhost:8080/",
          "height": 206
        },
        "id": "4e1lZsr8VCeD",
        "outputId": "395c63ec-0579-4dcd-e645-5defbe2d33ae"
      },
      "execution_count": 166,
      "outputs": [
        {
          "output_type": "execute_result",
          "data": {
            "text/plain": [
              "   Age  Sex  ChestPainType  RestingBP  Cholesterol  FastingBS  RestingECG  \\\n",
              "0   40    1              1        140          289          0           1   \n",
              "1   49    0              2        160          180          0           1   \n",
              "2   37    1              1        130          283          0           2   \n",
              "3   48    0              0        138          214          0           1   \n",
              "4   54    1              2        150          195          0           1   \n",
              "\n",
              "   MaxHR  ExerciseAngina  Oldpeak  ST_Slope  HeartDisease  \n",
              "0    172               0     0.00         2             0  \n",
              "1    156               0     1.00         1             1  \n",
              "2     98               0     0.00         2             0  \n",
              "3    108               1     1.50         1             1  \n",
              "4    122               0     0.00         2             0  "
            ],
            "text/html": [
              "\n",
              "  <div id=\"df-6b3a8d1b-788e-4ead-8856-9c6e9df95268\">\n",
              "    <div class=\"colab-df-container\">\n",
              "      <div>\n",
              "<style scoped>\n",
              "    .dataframe tbody tr th:only-of-type {\n",
              "        vertical-align: middle;\n",
              "    }\n",
              "\n",
              "    .dataframe tbody tr th {\n",
              "        vertical-align: top;\n",
              "    }\n",
              "\n",
              "    .dataframe thead th {\n",
              "        text-align: right;\n",
              "    }\n",
              "</style>\n",
              "<table border=\"1\" class=\"dataframe\">\n",
              "  <thead>\n",
              "    <tr style=\"text-align: right;\">\n",
              "      <th></th>\n",
              "      <th>Age</th>\n",
              "      <th>Sex</th>\n",
              "      <th>ChestPainType</th>\n",
              "      <th>RestingBP</th>\n",
              "      <th>Cholesterol</th>\n",
              "      <th>FastingBS</th>\n",
              "      <th>RestingECG</th>\n",
              "      <th>MaxHR</th>\n",
              "      <th>ExerciseAngina</th>\n",
              "      <th>Oldpeak</th>\n",
              "      <th>ST_Slope</th>\n",
              "      <th>HeartDisease</th>\n",
              "    </tr>\n",
              "  </thead>\n",
              "  <tbody>\n",
              "    <tr>\n",
              "      <th>0</th>\n",
              "      <td>40</td>\n",
              "      <td>1</td>\n",
              "      <td>1</td>\n",
              "      <td>140</td>\n",
              "      <td>289</td>\n",
              "      <td>0</td>\n",
              "      <td>1</td>\n",
              "      <td>172</td>\n",
              "      <td>0</td>\n",
              "      <td>0.00</td>\n",
              "      <td>2</td>\n",
              "      <td>0</td>\n",
              "    </tr>\n",
              "    <tr>\n",
              "      <th>1</th>\n",
              "      <td>49</td>\n",
              "      <td>0</td>\n",
              "      <td>2</td>\n",
              "      <td>160</td>\n",
              "      <td>180</td>\n",
              "      <td>0</td>\n",
              "      <td>1</td>\n",
              "      <td>156</td>\n",
              "      <td>0</td>\n",
              "      <td>1.00</td>\n",
              "      <td>1</td>\n",
              "      <td>1</td>\n",
              "    </tr>\n",
              "    <tr>\n",
              "      <th>2</th>\n",
              "      <td>37</td>\n",
              "      <td>1</td>\n",
              "      <td>1</td>\n",
              "      <td>130</td>\n",
              "      <td>283</td>\n",
              "      <td>0</td>\n",
              "      <td>2</td>\n",
              "      <td>98</td>\n",
              "      <td>0</td>\n",
              "      <td>0.00</td>\n",
              "      <td>2</td>\n",
              "      <td>0</td>\n",
              "    </tr>\n",
              "    <tr>\n",
              "      <th>3</th>\n",
              "      <td>48</td>\n",
              "      <td>0</td>\n",
              "      <td>0</td>\n",
              "      <td>138</td>\n",
              "      <td>214</td>\n",
              "      <td>0</td>\n",
              "      <td>1</td>\n",
              "      <td>108</td>\n",
              "      <td>1</td>\n",
              "      <td>1.50</td>\n",
              "      <td>1</td>\n",
              "      <td>1</td>\n",
              "    </tr>\n",
              "    <tr>\n",
              "      <th>4</th>\n",
              "      <td>54</td>\n",
              "      <td>1</td>\n",
              "      <td>2</td>\n",
              "      <td>150</td>\n",
              "      <td>195</td>\n",
              "      <td>0</td>\n",
              "      <td>1</td>\n",
              "      <td>122</td>\n",
              "      <td>0</td>\n",
              "      <td>0.00</td>\n",
              "      <td>2</td>\n",
              "      <td>0</td>\n",
              "    </tr>\n",
              "  </tbody>\n",
              "</table>\n",
              "</div>\n",
              "      <button class=\"colab-df-convert\" onclick=\"convertToInteractive('df-6b3a8d1b-788e-4ead-8856-9c6e9df95268')\"\n",
              "              title=\"Convert this dataframe to an interactive table.\"\n",
              "              style=\"display:none;\">\n",
              "        \n",
              "  <svg xmlns=\"http://www.w3.org/2000/svg\" height=\"24px\"viewBox=\"0 0 24 24\"\n",
              "       width=\"24px\">\n",
              "    <path d=\"M0 0h24v24H0V0z\" fill=\"none\"/>\n",
              "    <path d=\"M18.56 5.44l.94 2.06.94-2.06 2.06-.94-2.06-.94-.94-2.06-.94 2.06-2.06.94zm-11 1L8.5 8.5l.94-2.06 2.06-.94-2.06-.94L8.5 2.5l-.94 2.06-2.06.94zm10 10l.94 2.06.94-2.06 2.06-.94-2.06-.94-.94-2.06-.94 2.06-2.06.94z\"/><path d=\"M17.41 7.96l-1.37-1.37c-.4-.4-.92-.59-1.43-.59-.52 0-1.04.2-1.43.59L10.3 9.45l-7.72 7.72c-.78.78-.78 2.05 0 2.83L4 21.41c.39.39.9.59 1.41.59.51 0 1.02-.2 1.41-.59l7.78-7.78 2.81-2.81c.8-.78.8-2.07 0-2.86zM5.41 20L4 18.59l7.72-7.72 1.47 1.35L5.41 20z\"/>\n",
              "  </svg>\n",
              "      </button>\n",
              "      \n",
              "  <style>\n",
              "    .colab-df-container {\n",
              "      display:flex;\n",
              "      flex-wrap:wrap;\n",
              "      gap: 12px;\n",
              "    }\n",
              "\n",
              "    .colab-df-convert {\n",
              "      background-color: #E8F0FE;\n",
              "      border: none;\n",
              "      border-radius: 50%;\n",
              "      cursor: pointer;\n",
              "      display: none;\n",
              "      fill: #1967D2;\n",
              "      height: 32px;\n",
              "      padding: 0 0 0 0;\n",
              "      width: 32px;\n",
              "    }\n",
              "\n",
              "    .colab-df-convert:hover {\n",
              "      background-color: #E2EBFA;\n",
              "      box-shadow: 0px 1px 2px rgba(60, 64, 67, 0.3), 0px 1px 3px 1px rgba(60, 64, 67, 0.15);\n",
              "      fill: #174EA6;\n",
              "    }\n",
              "\n",
              "    [theme=dark] .colab-df-convert {\n",
              "      background-color: #3B4455;\n",
              "      fill: #D2E3FC;\n",
              "    }\n",
              "\n",
              "    [theme=dark] .colab-df-convert:hover {\n",
              "      background-color: #434B5C;\n",
              "      box-shadow: 0px 1px 3px 1px rgba(0, 0, 0, 0.15);\n",
              "      filter: drop-shadow(0px 1px 2px rgba(0, 0, 0, 0.3));\n",
              "      fill: #FFFFFF;\n",
              "    }\n",
              "  </style>\n",
              "\n",
              "      <script>\n",
              "        const buttonEl =\n",
              "          document.querySelector('#df-6b3a8d1b-788e-4ead-8856-9c6e9df95268 button.colab-df-convert');\n",
              "        buttonEl.style.display =\n",
              "          google.colab.kernel.accessAllowed ? 'block' : 'none';\n",
              "\n",
              "        async function convertToInteractive(key) {\n",
              "          const element = document.querySelector('#df-6b3a8d1b-788e-4ead-8856-9c6e9df95268');\n",
              "          const dataTable =\n",
              "            await google.colab.kernel.invokeFunction('convertToInteractive',\n",
              "                                                     [key], {});\n",
              "          if (!dataTable) return;\n",
              "\n",
              "          const docLinkHtml = 'Like what you see? Visit the ' +\n",
              "            '<a target=\"_blank\" href=https://colab.research.google.com/notebooks/data_table.ipynb>data table notebook</a>'\n",
              "            + ' to learn more about interactive tables.';\n",
              "          element.innerHTML = '';\n",
              "          dataTable['output_type'] = 'display_data';\n",
              "          await google.colab.output.renderOutput(dataTable, element);\n",
              "          const docLink = document.createElement('div');\n",
              "          docLink.innerHTML = docLinkHtml;\n",
              "          element.appendChild(docLink);\n",
              "        }\n",
              "      </script>\n",
              "    </div>\n",
              "  </div>\n",
              "  "
            ]
          },
          "metadata": {},
          "execution_count": 166
        }
      ]
    },
    {
      "cell_type": "markdown",
      "source": [
        "now we make all the data numeric"
      ],
      "metadata": {
        "id": "8kZeOHcGXBfJ"
      }
    },
    {
      "cell_type": "markdown",
      "source": [
        "now lets split the data into train and test "
      ],
      "metadata": {
        "id": "CaepLq7YXbnk"
      }
    },
    {
      "cell_type": "code",
      "execution_count": 167,
      "metadata": {
        "id": "VtAutzqVXngG"
      },
      "outputs": [],
      "source": [
        "# x is the input to the model and y is tha output\n",
        "\n",
        "x = df.drop(['HeartDisease'],axis=1)\n",
        "\n",
        "y = df['HeartDisease']"
      ]
    },
    {
      "cell_type": "code",
      "execution_count": 168,
      "metadata": {
        "id": "KLK6ri_kbRQe"
      },
      "outputs": [],
      "source": [
        "from sklearn.model_selection import train_test_split\n",
        "\n",
        "x_train, x_test, y_train,y_test = train_test_split(x,y,test_size=0.2, random_state=0)"
      ]
    },
    {
      "cell_type": "code",
      "source": [
        "## checking distribution of traget variable in train test split\n",
        "print('Distribution of traget variable in training set')\n",
        "print(y_train.value_counts())\n",
        "\n",
        "print('Distribution of traget variable in test set')\n",
        "print(y_test.value_counts())"
      ],
      "metadata": {
        "colab": {
          "base_uri": "https://localhost:8080/"
        },
        "id": "raci0__8YHnM",
        "outputId": "2a292277-5d00-4a75-b662-548383439563"
      },
      "execution_count": 169,
      "outputs": [
        {
          "output_type": "stream",
          "name": "stdout",
          "text": [
            "Distribution of traget variable in training set\n",
            "1    402\n",
            "0    322\n",
            "Name: HeartDisease, dtype: int64\n",
            "Distribution of traget variable in test set\n",
            "1    96\n",
            "0    86\n",
            "Name: HeartDisease, dtype: int64\n"
          ]
        }
      ]
    },
    {
      "cell_type": "code",
      "source": [
        "print('------------Training Set------------------')\n",
        "print(x_train.shape)\n",
        "print(y_train.shape)\n",
        "\n",
        "print('------------Test Set------------------')\n",
        "print(x_test.shape)\n",
        "print(y_test.shape)"
      ],
      "metadata": {
        "colab": {
          "base_uri": "https://localhost:8080/"
        },
        "id": "_CcECxf2ZNaG",
        "outputId": "b742f4ae-bdf4-4e70-8a24-2a8439e1c3ae"
      },
      "execution_count": 170,
      "outputs": [
        {
          "output_type": "stream",
          "name": "stdout",
          "text": [
            "------------Training Set------------------\n",
            "(724, 11)\n",
            "(724,)\n",
            "------------Test Set------------------\n",
            "(182, 11)\n",
            "(182,)\n"
          ]
        }
      ]
    },
    {
      "cell_type": "markdown",
      "source": [
        "Now lets use normlization to make all values from of dataset from 0 to 1"
      ],
      "metadata": {
        "id": "tzGRwzvLZZez"
      }
    },
    {
      "cell_type": "code",
      "source": [
        "#apply Normization\n",
        "from sklearn.preprocessing import MinMaxScaler\n",
        "scaler = MinMaxScaler()\n",
        "x_train[['Age','RestingBP','Cholesterol','MaxHR','ST_Slope']] = scaler.fit_transform(x_train[['Age','RestingBP','Cholesterol','MaxHR','ST_Slope']])\n",
        "\n",
        "x_test[['Age','RestingBP','Cholesterol','MaxHR','ST_Slope']] = scaler.transform(x_test[['Age','RestingBP','Cholesterol','MaxHR','ST_Slope']])"
      ],
      "metadata": {
        "id": "IqTnUFs5bbqW"
      },
      "execution_count": 171,
      "outputs": []
    },
    {
      "cell_type": "code",
      "source": [
        "#check the normlization\n",
        "x_train.head()\n",
        "#the range of values now is from 0 to 1"
      ],
      "metadata": {
        "colab": {
          "base_uri": "https://localhost:8080/",
          "height": 206
        },
        "id": "SSUmqob99yK8",
        "outputId": "1af81cbc-778f-4f0e-bee8-7c971d52c820"
      },
      "execution_count": 172,
      "outputs": [
        {
          "output_type": "execute_result",
          "data": {
            "text/plain": [
              "     Age  Sex  ChestPainType  RestingBP  Cholesterol  FastingBS  RestingECG  \\\n",
              "377 0.76    1              0       0.77         0.00          1           2   \n",
              "308 0.61    1              0       0.26         0.00          1           1   \n",
              "531 0.73    1              0       0.58         0.62          1           2   \n",
              "86  0.76    1              0       0.89         0.54          1           1   \n",
              "509 0.61    1              0       0.20         0.40          0           1   \n",
              "\n",
              "     MaxHR  ExerciseAngina  Oldpeak  ST_Slope  \n",
              "377   0.42               0     1.20      0.50  \n",
              "308   0.54               0     0.50      1.00  \n",
              "531   0.37               1     1.80      0.50  \n",
              "86    0.35               1     2.00      0.50  \n",
              "509   0.34               0     0.00      0.50  "
            ],
            "text/html": [
              "\n",
              "  <div id=\"df-e2121fa1-fb89-43e6-a096-22c81b032f0b\">\n",
              "    <div class=\"colab-df-container\">\n",
              "      <div>\n",
              "<style scoped>\n",
              "    .dataframe tbody tr th:only-of-type {\n",
              "        vertical-align: middle;\n",
              "    }\n",
              "\n",
              "    .dataframe tbody tr th {\n",
              "        vertical-align: top;\n",
              "    }\n",
              "\n",
              "    .dataframe thead th {\n",
              "        text-align: right;\n",
              "    }\n",
              "</style>\n",
              "<table border=\"1\" class=\"dataframe\">\n",
              "  <thead>\n",
              "    <tr style=\"text-align: right;\">\n",
              "      <th></th>\n",
              "      <th>Age</th>\n",
              "      <th>Sex</th>\n",
              "      <th>ChestPainType</th>\n",
              "      <th>RestingBP</th>\n",
              "      <th>Cholesterol</th>\n",
              "      <th>FastingBS</th>\n",
              "      <th>RestingECG</th>\n",
              "      <th>MaxHR</th>\n",
              "      <th>ExerciseAngina</th>\n",
              "      <th>Oldpeak</th>\n",
              "      <th>ST_Slope</th>\n",
              "    </tr>\n",
              "  </thead>\n",
              "  <tbody>\n",
              "    <tr>\n",
              "      <th>377</th>\n",
              "      <td>0.76</td>\n",
              "      <td>1</td>\n",
              "      <td>0</td>\n",
              "      <td>0.77</td>\n",
              "      <td>0.00</td>\n",
              "      <td>1</td>\n",
              "      <td>2</td>\n",
              "      <td>0.42</td>\n",
              "      <td>0</td>\n",
              "      <td>1.20</td>\n",
              "      <td>0.50</td>\n",
              "    </tr>\n",
              "    <tr>\n",
              "      <th>308</th>\n",
              "      <td>0.61</td>\n",
              "      <td>1</td>\n",
              "      <td>0</td>\n",
              "      <td>0.26</td>\n",
              "      <td>0.00</td>\n",
              "      <td>1</td>\n",
              "      <td>1</td>\n",
              "      <td>0.54</td>\n",
              "      <td>0</td>\n",
              "      <td>0.50</td>\n",
              "      <td>1.00</td>\n",
              "    </tr>\n",
              "    <tr>\n",
              "      <th>531</th>\n",
              "      <td>0.73</td>\n",
              "      <td>1</td>\n",
              "      <td>0</td>\n",
              "      <td>0.58</td>\n",
              "      <td>0.62</td>\n",
              "      <td>1</td>\n",
              "      <td>2</td>\n",
              "      <td>0.37</td>\n",
              "      <td>1</td>\n",
              "      <td>1.80</td>\n",
              "      <td>0.50</td>\n",
              "    </tr>\n",
              "    <tr>\n",
              "      <th>86</th>\n",
              "      <td>0.76</td>\n",
              "      <td>1</td>\n",
              "      <td>0</td>\n",
              "      <td>0.89</td>\n",
              "      <td>0.54</td>\n",
              "      <td>1</td>\n",
              "      <td>1</td>\n",
              "      <td>0.35</td>\n",
              "      <td>1</td>\n",
              "      <td>2.00</td>\n",
              "      <td>0.50</td>\n",
              "    </tr>\n",
              "    <tr>\n",
              "      <th>509</th>\n",
              "      <td>0.61</td>\n",
              "      <td>1</td>\n",
              "      <td>0</td>\n",
              "      <td>0.20</td>\n",
              "      <td>0.40</td>\n",
              "      <td>0</td>\n",
              "      <td>1</td>\n",
              "      <td>0.34</td>\n",
              "      <td>0</td>\n",
              "      <td>0.00</td>\n",
              "      <td>0.50</td>\n",
              "    </tr>\n",
              "  </tbody>\n",
              "</table>\n",
              "</div>\n",
              "      <button class=\"colab-df-convert\" onclick=\"convertToInteractive('df-e2121fa1-fb89-43e6-a096-22c81b032f0b')\"\n",
              "              title=\"Convert this dataframe to an interactive table.\"\n",
              "              style=\"display:none;\">\n",
              "        \n",
              "  <svg xmlns=\"http://www.w3.org/2000/svg\" height=\"24px\"viewBox=\"0 0 24 24\"\n",
              "       width=\"24px\">\n",
              "    <path d=\"M0 0h24v24H0V0z\" fill=\"none\"/>\n",
              "    <path d=\"M18.56 5.44l.94 2.06.94-2.06 2.06-.94-2.06-.94-.94-2.06-.94 2.06-2.06.94zm-11 1L8.5 8.5l.94-2.06 2.06-.94-2.06-.94L8.5 2.5l-.94 2.06-2.06.94zm10 10l.94 2.06.94-2.06 2.06-.94-2.06-.94-.94-2.06-.94 2.06-2.06.94z\"/><path d=\"M17.41 7.96l-1.37-1.37c-.4-.4-.92-.59-1.43-.59-.52 0-1.04.2-1.43.59L10.3 9.45l-7.72 7.72c-.78.78-.78 2.05 0 2.83L4 21.41c.39.39.9.59 1.41.59.51 0 1.02-.2 1.41-.59l7.78-7.78 2.81-2.81c.8-.78.8-2.07 0-2.86zM5.41 20L4 18.59l7.72-7.72 1.47 1.35L5.41 20z\"/>\n",
              "  </svg>\n",
              "      </button>\n",
              "      \n",
              "  <style>\n",
              "    .colab-df-container {\n",
              "      display:flex;\n",
              "      flex-wrap:wrap;\n",
              "      gap: 12px;\n",
              "    }\n",
              "\n",
              "    .colab-df-convert {\n",
              "      background-color: #E8F0FE;\n",
              "      border: none;\n",
              "      border-radius: 50%;\n",
              "      cursor: pointer;\n",
              "      display: none;\n",
              "      fill: #1967D2;\n",
              "      height: 32px;\n",
              "      padding: 0 0 0 0;\n",
              "      width: 32px;\n",
              "    }\n",
              "\n",
              "    .colab-df-convert:hover {\n",
              "      background-color: #E2EBFA;\n",
              "      box-shadow: 0px 1px 2px rgba(60, 64, 67, 0.3), 0px 1px 3px 1px rgba(60, 64, 67, 0.15);\n",
              "      fill: #174EA6;\n",
              "    }\n",
              "\n",
              "    [theme=dark] .colab-df-convert {\n",
              "      background-color: #3B4455;\n",
              "      fill: #D2E3FC;\n",
              "    }\n",
              "\n",
              "    [theme=dark] .colab-df-convert:hover {\n",
              "      background-color: #434B5C;\n",
              "      box-shadow: 0px 1px 3px 1px rgba(0, 0, 0, 0.15);\n",
              "      filter: drop-shadow(0px 1px 2px rgba(0, 0, 0, 0.3));\n",
              "      fill: #FFFFFF;\n",
              "    }\n",
              "  </style>\n",
              "\n",
              "      <script>\n",
              "        const buttonEl =\n",
              "          document.querySelector('#df-e2121fa1-fb89-43e6-a096-22c81b032f0b button.colab-df-convert');\n",
              "        buttonEl.style.display =\n",
              "          google.colab.kernel.accessAllowed ? 'block' : 'none';\n",
              "\n",
              "        async function convertToInteractive(key) {\n",
              "          const element = document.querySelector('#df-e2121fa1-fb89-43e6-a096-22c81b032f0b');\n",
              "          const dataTable =\n",
              "            await google.colab.kernel.invokeFunction('convertToInteractive',\n",
              "                                                     [key], {});\n",
              "          if (!dataTable) return;\n",
              "\n",
              "          const docLinkHtml = 'Like what you see? Visit the ' +\n",
              "            '<a target=\"_blank\" href=https://colab.research.google.com/notebooks/data_table.ipynb>data table notebook</a>'\n",
              "            + ' to learn more about interactive tables.';\n",
              "          element.innerHTML = '';\n",
              "          dataTable['output_type'] = 'display_data';\n",
              "          await google.colab.output.renderOutput(dataTable, element);\n",
              "          const docLink = document.createElement('div');\n",
              "          docLink.innerHTML = docLinkHtml;\n",
              "          element.appendChild(docLink);\n",
              "        }\n",
              "      </script>\n",
              "    </div>\n",
              "  </div>\n",
              "  "
            ]
          },
          "metadata": {},
          "execution_count": 172
        }
      ]
    },
    {
      "cell_type": "markdown",
      "source": [
        "Now we will you use lazy classifier model which will help us to know the most model with highest accuracy and less time taken so that we could use them instead of others"
      ],
      "metadata": {
        "id": "iyipEuPS4lHD"
      }
    },
    {
      "cell_type": "markdown",
      "source": [
        "## LazyModel"
      ],
      "metadata": {
        "id": "U0pmXz3y9mc6"
      }
    },
    {
      "cell_type": "code",
      "source": [
        "!pip install lazypredict\n",
        "from lazypredict.Supervised import LazyClassifier\n",
        "\n",
        "clf = LazyClassifier(verbose=0,ignore_warnings=True )\n",
        "models, predictions = clf.fit(x_train, x_test, y_train, y_pred)\n",
        "models"
      ],
      "metadata": {
        "colab": {
          "base_uri": "https://localhost:8080/",
          "height": 1000
        },
        "id": "Z-J2KXV_4Fka",
        "outputId": "2332efcf-f476-4999-f13d-29c6d59342e1"
      },
      "execution_count": 173,
      "outputs": [
        {
          "output_type": "stream",
          "name": "stdout",
          "text": [
            "Looking in indexes: https://pypi.org/simple, https://us-python.pkg.dev/colab-wheels/public/simple/\n",
            "Requirement already satisfied: lazypredict in /usr/local/lib/python3.8/dist-packages (0.2.12)\n",
            "Requirement already satisfied: tqdm in /usr/local/lib/python3.8/dist-packages (from lazypredict) (4.64.1)\n",
            "Requirement already satisfied: lightgbm in /usr/local/lib/python3.8/dist-packages (from lazypredict) (2.2.3)\n",
            "Requirement already satisfied: pandas in /usr/local/lib/python3.8/dist-packages (from lazypredict) (1.3.5)\n",
            "Requirement already satisfied: joblib in /usr/local/lib/python3.8/dist-packages (from lazypredict) (1.2.0)\n",
            "Requirement already satisfied: scikit-learn in /usr/local/lib/python3.8/dist-packages (from lazypredict) (1.0.2)\n",
            "Requirement already satisfied: click in /usr/local/lib/python3.8/dist-packages (from lazypredict) (7.1.2)\n",
            "Requirement already satisfied: xgboost in /usr/local/lib/python3.8/dist-packages (from lazypredict) (0.90)\n",
            "Requirement already satisfied: numpy in /usr/local/lib/python3.8/dist-packages (from lightgbm->lazypredict) (1.21.6)\n",
            "Requirement already satisfied: scipy in /usr/local/lib/python3.8/dist-packages (from lightgbm->lazypredict) (1.7.3)\n",
            "Requirement already satisfied: pytz>=2017.3 in /usr/local/lib/python3.8/dist-packages (from pandas->lazypredict) (2022.7.1)\n",
            "Requirement already satisfied: python-dateutil>=2.7.3 in /usr/local/lib/python3.8/dist-packages (from pandas->lazypredict) (2.8.2)\n",
            "Requirement already satisfied: threadpoolctl>=2.0.0 in /usr/local/lib/python3.8/dist-packages (from scikit-learn->lazypredict) (3.1.0)\n",
            "Requirement already satisfied: six>=1.5 in /usr/local/lib/python3.8/dist-packages (from python-dateutil>=2.7.3->pandas->lazypredict) (1.15.0)\n"
          ]
        },
        {
          "output_type": "stream",
          "name": "stderr",
          "text": [
            "100%|██████████| 29/29 [00:01<00:00, 21.60it/s]\n"
          ]
        },
        {
          "output_type": "execute_result",
          "data": {
            "text/plain": [
              "                               Accuracy  Balanced Accuracy  ROC AUC  F1 Score  \\\n",
              "Model                                                                           \n",
              "BaggingClassifier                  0.54               0.55     0.55      0.54   \n",
              "LGBMClassifier                     0.54               0.54     0.54      0.55   \n",
              "QuadraticDiscriminantAnalysis      0.54               0.54     0.54      0.54   \n",
              "BernoulliNB                        0.54               0.54     0.54      0.54   \n",
              "NuSVC                              0.53               0.53     0.53      0.53   \n",
              "GaussianNB                         0.53               0.53     0.53      0.53   \n",
              "Perceptron                         0.52               0.52     0.52      0.51   \n",
              "XGBClassifier                      0.52               0.52     0.52      0.52   \n",
              "LogisticRegression                 0.52               0.52     0.52      0.52   \n",
              "PassiveAggressiveClassifier        0.52               0.52     0.52      0.52   \n",
              "RidgeClassifierCV                  0.52               0.52     0.52      0.52   \n",
              "RidgeClassifier                    0.52               0.52     0.52      0.52   \n",
              "AdaBoostClassifier                 0.52               0.52     0.52      0.52   \n",
              "LinearDiscriminantAnalysis         0.52               0.52     0.52      0.52   \n",
              "CalibratedClassifierCV             0.52               0.52     0.52      0.52   \n",
              "LinearSVC                          0.52               0.52     0.52      0.52   \n",
              "KNeighborsClassifier               0.51               0.51     0.51      0.51   \n",
              "RandomForestClassifier             0.51               0.51     0.51      0.51   \n",
              "SVC                                0.51               0.51     0.51      0.51   \n",
              "SGDClassifier                      0.51               0.51     0.51      0.51   \n",
              "ExtraTreesClassifier               0.51               0.51     0.51      0.51   \n",
              "NearestCentroid                    0.50               0.50     0.50      0.50   \n",
              "DummyClassifier                    0.55               0.50     0.50      0.39   \n",
              "ExtraTreeClassifier                0.49               0.50     0.50      0.50   \n",
              "DecisionTreeClassifier             0.49               0.49     0.49      0.49   \n",
              "LabelSpreading                     0.48               0.48     0.48      0.48   \n",
              "LabelPropagation                   0.48               0.48     0.48      0.48   \n",
              "\n",
              "                               Time Taken  \n",
              "Model                                      \n",
              "BaggingClassifier                    0.05  \n",
              "LGBMClassifier                       0.07  \n",
              "QuadraticDiscriminantAnalysis        0.02  \n",
              "BernoulliNB                          0.01  \n",
              "NuSVC                                0.04  \n",
              "GaussianNB                           0.02  \n",
              "Perceptron                           0.02  \n",
              "XGBClassifier                        0.07  \n",
              "LogisticRegression                   0.03  \n",
              "PassiveAggressiveClassifier          0.02  \n",
              "RidgeClassifierCV                    0.02  \n",
              "RidgeClassifier                      0.02  \n",
              "AdaBoostClassifier                   0.12  \n",
              "LinearDiscriminantAnalysis           0.03  \n",
              "CalibratedClassifierCV               0.11  \n",
              "LinearSVC                            0.04  \n",
              "KNeighborsClassifier                 0.02  \n",
              "RandomForestClassifier               0.21  \n",
              "SVC                                  0.04  \n",
              "SGDClassifier                        0.02  \n",
              "ExtraTreesClassifier                 0.16  \n",
              "NearestCentroid                      0.02  \n",
              "DummyClassifier                      0.01  \n",
              "ExtraTreeClassifier                  0.01  \n",
              "DecisionTreeClassifier               0.02  \n",
              "LabelSpreading                       0.07  \n",
              "LabelPropagation                     0.06  "
            ],
            "text/html": [
              "\n",
              "  <div id=\"df-486412f4-7d23-4ca1-ae72-21529da3d6ee\">\n",
              "    <div class=\"colab-df-container\">\n",
              "      <div>\n",
              "<style scoped>\n",
              "    .dataframe tbody tr th:only-of-type {\n",
              "        vertical-align: middle;\n",
              "    }\n",
              "\n",
              "    .dataframe tbody tr th {\n",
              "        vertical-align: top;\n",
              "    }\n",
              "\n",
              "    .dataframe thead th {\n",
              "        text-align: right;\n",
              "    }\n",
              "</style>\n",
              "<table border=\"1\" class=\"dataframe\">\n",
              "  <thead>\n",
              "    <tr style=\"text-align: right;\">\n",
              "      <th></th>\n",
              "      <th>Accuracy</th>\n",
              "      <th>Balanced Accuracy</th>\n",
              "      <th>ROC AUC</th>\n",
              "      <th>F1 Score</th>\n",
              "      <th>Time Taken</th>\n",
              "    </tr>\n",
              "    <tr>\n",
              "      <th>Model</th>\n",
              "      <th></th>\n",
              "      <th></th>\n",
              "      <th></th>\n",
              "      <th></th>\n",
              "      <th></th>\n",
              "    </tr>\n",
              "  </thead>\n",
              "  <tbody>\n",
              "    <tr>\n",
              "      <th>BaggingClassifier</th>\n",
              "      <td>0.54</td>\n",
              "      <td>0.55</td>\n",
              "      <td>0.55</td>\n",
              "      <td>0.54</td>\n",
              "      <td>0.05</td>\n",
              "    </tr>\n",
              "    <tr>\n",
              "      <th>LGBMClassifier</th>\n",
              "      <td>0.54</td>\n",
              "      <td>0.54</td>\n",
              "      <td>0.54</td>\n",
              "      <td>0.55</td>\n",
              "      <td>0.07</td>\n",
              "    </tr>\n",
              "    <tr>\n",
              "      <th>QuadraticDiscriminantAnalysis</th>\n",
              "      <td>0.54</td>\n",
              "      <td>0.54</td>\n",
              "      <td>0.54</td>\n",
              "      <td>0.54</td>\n",
              "      <td>0.02</td>\n",
              "    </tr>\n",
              "    <tr>\n",
              "      <th>BernoulliNB</th>\n",
              "      <td>0.54</td>\n",
              "      <td>0.54</td>\n",
              "      <td>0.54</td>\n",
              "      <td>0.54</td>\n",
              "      <td>0.01</td>\n",
              "    </tr>\n",
              "    <tr>\n",
              "      <th>NuSVC</th>\n",
              "      <td>0.53</td>\n",
              "      <td>0.53</td>\n",
              "      <td>0.53</td>\n",
              "      <td>0.53</td>\n",
              "      <td>0.04</td>\n",
              "    </tr>\n",
              "    <tr>\n",
              "      <th>GaussianNB</th>\n",
              "      <td>0.53</td>\n",
              "      <td>0.53</td>\n",
              "      <td>0.53</td>\n",
              "      <td>0.53</td>\n",
              "      <td>0.02</td>\n",
              "    </tr>\n",
              "    <tr>\n",
              "      <th>Perceptron</th>\n",
              "      <td>0.52</td>\n",
              "      <td>0.52</td>\n",
              "      <td>0.52</td>\n",
              "      <td>0.51</td>\n",
              "      <td>0.02</td>\n",
              "    </tr>\n",
              "    <tr>\n",
              "      <th>XGBClassifier</th>\n",
              "      <td>0.52</td>\n",
              "      <td>0.52</td>\n",
              "      <td>0.52</td>\n",
              "      <td>0.52</td>\n",
              "      <td>0.07</td>\n",
              "    </tr>\n",
              "    <tr>\n",
              "      <th>LogisticRegression</th>\n",
              "      <td>0.52</td>\n",
              "      <td>0.52</td>\n",
              "      <td>0.52</td>\n",
              "      <td>0.52</td>\n",
              "      <td>0.03</td>\n",
              "    </tr>\n",
              "    <tr>\n",
              "      <th>PassiveAggressiveClassifier</th>\n",
              "      <td>0.52</td>\n",
              "      <td>0.52</td>\n",
              "      <td>0.52</td>\n",
              "      <td>0.52</td>\n",
              "      <td>0.02</td>\n",
              "    </tr>\n",
              "    <tr>\n",
              "      <th>RidgeClassifierCV</th>\n",
              "      <td>0.52</td>\n",
              "      <td>0.52</td>\n",
              "      <td>0.52</td>\n",
              "      <td>0.52</td>\n",
              "      <td>0.02</td>\n",
              "    </tr>\n",
              "    <tr>\n",
              "      <th>RidgeClassifier</th>\n",
              "      <td>0.52</td>\n",
              "      <td>0.52</td>\n",
              "      <td>0.52</td>\n",
              "      <td>0.52</td>\n",
              "      <td>0.02</td>\n",
              "    </tr>\n",
              "    <tr>\n",
              "      <th>AdaBoostClassifier</th>\n",
              "      <td>0.52</td>\n",
              "      <td>0.52</td>\n",
              "      <td>0.52</td>\n",
              "      <td>0.52</td>\n",
              "      <td>0.12</td>\n",
              "    </tr>\n",
              "    <tr>\n",
              "      <th>LinearDiscriminantAnalysis</th>\n",
              "      <td>0.52</td>\n",
              "      <td>0.52</td>\n",
              "      <td>0.52</td>\n",
              "      <td>0.52</td>\n",
              "      <td>0.03</td>\n",
              "    </tr>\n",
              "    <tr>\n",
              "      <th>CalibratedClassifierCV</th>\n",
              "      <td>0.52</td>\n",
              "      <td>0.52</td>\n",
              "      <td>0.52</td>\n",
              "      <td>0.52</td>\n",
              "      <td>0.11</td>\n",
              "    </tr>\n",
              "    <tr>\n",
              "      <th>LinearSVC</th>\n",
              "      <td>0.52</td>\n",
              "      <td>0.52</td>\n",
              "      <td>0.52</td>\n",
              "      <td>0.52</td>\n",
              "      <td>0.04</td>\n",
              "    </tr>\n",
              "    <tr>\n",
              "      <th>KNeighborsClassifier</th>\n",
              "      <td>0.51</td>\n",
              "      <td>0.51</td>\n",
              "      <td>0.51</td>\n",
              "      <td>0.51</td>\n",
              "      <td>0.02</td>\n",
              "    </tr>\n",
              "    <tr>\n",
              "      <th>RandomForestClassifier</th>\n",
              "      <td>0.51</td>\n",
              "      <td>0.51</td>\n",
              "      <td>0.51</td>\n",
              "      <td>0.51</td>\n",
              "      <td>0.21</td>\n",
              "    </tr>\n",
              "    <tr>\n",
              "      <th>SVC</th>\n",
              "      <td>0.51</td>\n",
              "      <td>0.51</td>\n",
              "      <td>0.51</td>\n",
              "      <td>0.51</td>\n",
              "      <td>0.04</td>\n",
              "    </tr>\n",
              "    <tr>\n",
              "      <th>SGDClassifier</th>\n",
              "      <td>0.51</td>\n",
              "      <td>0.51</td>\n",
              "      <td>0.51</td>\n",
              "      <td>0.51</td>\n",
              "      <td>0.02</td>\n",
              "    </tr>\n",
              "    <tr>\n",
              "      <th>ExtraTreesClassifier</th>\n",
              "      <td>0.51</td>\n",
              "      <td>0.51</td>\n",
              "      <td>0.51</td>\n",
              "      <td>0.51</td>\n",
              "      <td>0.16</td>\n",
              "    </tr>\n",
              "    <tr>\n",
              "      <th>NearestCentroid</th>\n",
              "      <td>0.50</td>\n",
              "      <td>0.50</td>\n",
              "      <td>0.50</td>\n",
              "      <td>0.50</td>\n",
              "      <td>0.02</td>\n",
              "    </tr>\n",
              "    <tr>\n",
              "      <th>DummyClassifier</th>\n",
              "      <td>0.55</td>\n",
              "      <td>0.50</td>\n",
              "      <td>0.50</td>\n",
              "      <td>0.39</td>\n",
              "      <td>0.01</td>\n",
              "    </tr>\n",
              "    <tr>\n",
              "      <th>ExtraTreeClassifier</th>\n",
              "      <td>0.49</td>\n",
              "      <td>0.50</td>\n",
              "      <td>0.50</td>\n",
              "      <td>0.50</td>\n",
              "      <td>0.01</td>\n",
              "    </tr>\n",
              "    <tr>\n",
              "      <th>DecisionTreeClassifier</th>\n",
              "      <td>0.49</td>\n",
              "      <td>0.49</td>\n",
              "      <td>0.49</td>\n",
              "      <td>0.49</td>\n",
              "      <td>0.02</td>\n",
              "    </tr>\n",
              "    <tr>\n",
              "      <th>LabelSpreading</th>\n",
              "      <td>0.48</td>\n",
              "      <td>0.48</td>\n",
              "      <td>0.48</td>\n",
              "      <td>0.48</td>\n",
              "      <td>0.07</td>\n",
              "    </tr>\n",
              "    <tr>\n",
              "      <th>LabelPropagation</th>\n",
              "      <td>0.48</td>\n",
              "      <td>0.48</td>\n",
              "      <td>0.48</td>\n",
              "      <td>0.48</td>\n",
              "      <td>0.06</td>\n",
              "    </tr>\n",
              "  </tbody>\n",
              "</table>\n",
              "</div>\n",
              "      <button class=\"colab-df-convert\" onclick=\"convertToInteractive('df-486412f4-7d23-4ca1-ae72-21529da3d6ee')\"\n",
              "              title=\"Convert this dataframe to an interactive table.\"\n",
              "              style=\"display:none;\">\n",
              "        \n",
              "  <svg xmlns=\"http://www.w3.org/2000/svg\" height=\"24px\"viewBox=\"0 0 24 24\"\n",
              "       width=\"24px\">\n",
              "    <path d=\"M0 0h24v24H0V0z\" fill=\"none\"/>\n",
              "    <path d=\"M18.56 5.44l.94 2.06.94-2.06 2.06-.94-2.06-.94-.94-2.06-.94 2.06-2.06.94zm-11 1L8.5 8.5l.94-2.06 2.06-.94-2.06-.94L8.5 2.5l-.94 2.06-2.06.94zm10 10l.94 2.06.94-2.06 2.06-.94-2.06-.94-.94-2.06-.94 2.06-2.06.94z\"/><path d=\"M17.41 7.96l-1.37-1.37c-.4-.4-.92-.59-1.43-.59-.52 0-1.04.2-1.43.59L10.3 9.45l-7.72 7.72c-.78.78-.78 2.05 0 2.83L4 21.41c.39.39.9.59 1.41.59.51 0 1.02-.2 1.41-.59l7.78-7.78 2.81-2.81c.8-.78.8-2.07 0-2.86zM5.41 20L4 18.59l7.72-7.72 1.47 1.35L5.41 20z\"/>\n",
              "  </svg>\n",
              "      </button>\n",
              "      \n",
              "  <style>\n",
              "    .colab-df-container {\n",
              "      display:flex;\n",
              "      flex-wrap:wrap;\n",
              "      gap: 12px;\n",
              "    }\n",
              "\n",
              "    .colab-df-convert {\n",
              "      background-color: #E8F0FE;\n",
              "      border: none;\n",
              "      border-radius: 50%;\n",
              "      cursor: pointer;\n",
              "      display: none;\n",
              "      fill: #1967D2;\n",
              "      height: 32px;\n",
              "      padding: 0 0 0 0;\n",
              "      width: 32px;\n",
              "    }\n",
              "\n",
              "    .colab-df-convert:hover {\n",
              "      background-color: #E2EBFA;\n",
              "      box-shadow: 0px 1px 2px rgba(60, 64, 67, 0.3), 0px 1px 3px 1px rgba(60, 64, 67, 0.15);\n",
              "      fill: #174EA6;\n",
              "    }\n",
              "\n",
              "    [theme=dark] .colab-df-convert {\n",
              "      background-color: #3B4455;\n",
              "      fill: #D2E3FC;\n",
              "    }\n",
              "\n",
              "    [theme=dark] .colab-df-convert:hover {\n",
              "      background-color: #434B5C;\n",
              "      box-shadow: 0px 1px 3px 1px rgba(0, 0, 0, 0.15);\n",
              "      filter: drop-shadow(0px 1px 2px rgba(0, 0, 0, 0.3));\n",
              "      fill: #FFFFFF;\n",
              "    }\n",
              "  </style>\n",
              "\n",
              "      <script>\n",
              "        const buttonEl =\n",
              "          document.querySelector('#df-486412f4-7d23-4ca1-ae72-21529da3d6ee button.colab-df-convert');\n",
              "        buttonEl.style.display =\n",
              "          google.colab.kernel.accessAllowed ? 'block' : 'none';\n",
              "\n",
              "        async function convertToInteractive(key) {\n",
              "          const element = document.querySelector('#df-486412f4-7d23-4ca1-ae72-21529da3d6ee');\n",
              "          const dataTable =\n",
              "            await google.colab.kernel.invokeFunction('convertToInteractive',\n",
              "                                                     [key], {});\n",
              "          if (!dataTable) return;\n",
              "\n",
              "          const docLinkHtml = 'Like what you see? Visit the ' +\n",
              "            '<a target=\"_blank\" href=https://colab.research.google.com/notebooks/data_table.ipynb>data table notebook</a>'\n",
              "            + ' to learn more about interactive tables.';\n",
              "          element.innerHTML = '';\n",
              "          dataTable['output_type'] = 'display_data';\n",
              "          await google.colab.output.renderOutput(dataTable, element);\n",
              "          const docLink = document.createElement('div');\n",
              "          docLink.innerHTML = docLinkHtml;\n",
              "          element.appendChild(docLink);\n",
              "        }\n",
              "      </script>\n",
              "    </div>\n",
              "  </div>\n",
              "  "
            ]
          },
          "metadata": {},
          "execution_count": 173
        }
      ]
    },
    {
      "cell_type": "markdown",
      "source": [
        "**As we can see that XGB,SVC and Random Forest are models with highest accuracy so we will foucus on them**|"
      ],
      "metadata": {
        "id": "WCltFOkt_IZK"
      }
    },
    {
      "cell_type": "markdown",
      "source": [
        "**We'll first try to see the performance without applying feature selection methods, and see if we can increase number of features and get same or better scorer**"
      ],
      "metadata": {
        "id": "GJRe0gS66JI2"
      }
    },
    {
      "cell_type": "markdown",
      "source": [
        "## SVM Model"
      ],
      "metadata": {
        "id": "US0G6Vcc6tVS"
      }
    },
    {
      "cell_type": "code",
      "source": [
        "from sklearn.svm import SVC\n",
        "\n",
        "svm_model  = SVC(probability=True)\n",
        "svm_model.fit(x_train,y_train)\n",
        "\n",
        "y_pred = svm_model.predict(x_test)"
      ],
      "metadata": {
        "id": "knMHdfjk6wMj"
      },
      "execution_count": 174,
      "outputs": []
    },
    {
      "cell_type": "code",
      "source": [
        "check_model(y_test,y_pred)"
      ],
      "metadata": {
        "colab": {
          "base_uri": "https://localhost:8080/",
          "height": 612
        },
        "id": "K7hBe-KT8EQL",
        "outputId": "36ba1ab5-c4dd-4a6d-c87e-66db9efc77e4"
      },
      "execution_count": 175,
      "outputs": [
        {
          "output_type": "stream",
          "name": "stdout",
          "text": [
            "              precision    recall  f1-score   support\n",
            "\n",
            "           0       0.89      0.84      0.86        86\n",
            "           1       0.86      0.91      0.88        96\n",
            "\n",
            "    accuracy                           0.87       182\n",
            "   macro avg       0.88      0.87      0.87       182\n",
            "weighted avg       0.87      0.87      0.87       182\n",
            "\n",
            "______________________________________________________________________________\n",
            " \n",
            " \n",
            "Accuracy score of model is: 87.4 %\n",
            "precision score of model is: 86.1 %\n",
            "f1_score score of model is: 88.3 %\n",
            "recall score of model is: 90.6 %\n",
            " \n",
            "______________________________________________________________________________\n",
            " \n"
          ]
        },
        {
          "output_type": "display_data",
          "data": {
            "text/plain": [
              "<Figure size 432x288 with 2 Axes>"
            ],
            "image/png": "[encoded data removed]"
          },
          "metadata": {
            "needs_background": "light"
          }
        }
      ]
    },
    {
      "cell_type": "code",
      "source": [
        "y_predp=svm_model.predict_proba(x_test)"
      ],
      "metadata": {
        "id": "quT84GlI8QLs"
      },
      "execution_count": 176,
      "outputs": []
    },
    {
      "cell_type": "code",
      "source": [
        "plot_roc(y_test,y_predp)"
      ],
      "metadata": {
        "colab": {
          "base_uri": "https://localhost:8080/",
          "height": 347
        },
        "id": "Az33ucgB8TdP",
        "outputId": "e1179ae5-0ef4-46db-9a40-28091f6336f9"
      },
      "execution_count": 177,
      "outputs": [
        {
          "output_type": "display_data",
          "data": {
            "text/plain": [
              "<Figure size 432x288 with 1 Axes>"
            ],
            "image/png": "[encoded data removed]"
          },
          "metadata": {
            "needs_background": "light"
          }
        },
        {
          "output_type": "stream",
          "name": "stdout",
          "text": [
            "______________________________________________________________\n",
            " \n",
            "AUC is: 91.7 %\n"
          ]
        }
      ]
    },
    {
      "cell_type": "markdown",
      "metadata": {
        "id": "wMMevBG3cu_w"
      },
      "source": [
        "## Logistic Regression Model"
      ]
    },
    {
      "cell_type": "code",
      "execution_count": 178,
      "metadata": {
        "id": "ZU-MRbV4cxHI"
      },
      "outputs": [],
      "source": [
        "from sklearn.linear_model import LogisticRegression\n",
        "\n",
        "LG_model=LogisticRegression()\n",
        "\n",
        "LG_model.fit(x_train,y_train)\n",
        "\n",
        "y_pred=LG_model.predict(x_test)"
      ]
    },
    {
      "cell_type": "code",
      "execution_count": 179,
      "metadata": {
        "colab": {
          "base_uri": "https://localhost:8080/",
          "height": 612
        },
        "id": "4FSn85dndKUV",
        "outputId": "7846c7d5-a5e6-4abe-8e6a-9bbbde34b999"
      },
      "outputs": [
        {
          "output_type": "stream",
          "name": "stdout",
          "text": [
            "              precision    recall  f1-score   support\n",
            "\n",
            "           0       0.84      0.87      0.86        86\n",
            "           1       0.88      0.85      0.87        96\n",
            "\n",
            "    accuracy                           0.86       182\n",
            "   macro avg       0.86      0.86      0.86       182\n",
            "weighted avg       0.86      0.86      0.86       182\n",
            "\n",
            "______________________________________________________________________________\n",
            " \n",
            " \n",
            "Accuracy score of model is: 86.3 %\n",
            "precision score of model is: 88.2 %\n",
            "f1_score score of model is: 86.8 %\n",
            "recall score of model is: 85.4 %\n",
            " \n",
            "______________________________________________________________________________\n",
            " \n"
          ]
        },
        {
          "output_type": "display_data",
          "data": {
            "text/plain": [
              "<Figure size 432x288 with 2 Axes>"
            ],
            "image/png": "[encoded data removed]"
          },
          "metadata": {
            "needs_background": "light"
          }
        }
      ],
      "source": [
        "check_model(y_test,y_pred)"
      ]
    },
    {
      "cell_type": "code",
      "execution_count": 180,
      "metadata": {
        "id": "N5lIO_7odKtd"
      },
      "outputs": [],
      "source": [
        "y_predp=LG_model.predict_proba(x_test)"
      ]
    },
    {
      "cell_type": "code",
      "execution_count": 181,
      "metadata": {
        "colab": {
          "base_uri": "https://localhost:8080/",
          "height": 347
        },
        "id": "LjVfEWL8dRmM",
        "outputId": "c5818eab-6240-41f9-e92f-d2a81bc229f8"
      },
      "outputs": [
        {
          "output_type": "display_data",
          "data": {
            "text/plain": [
              "<Figure size 432x288 with 1 Axes>"
            ],
            "image/png": "[encoded data removed]"
          },
          "metadata": {
            "needs_background": "light"
          }
        },
        {
          "output_type": "stream",
          "name": "stdout",
          "text": [
            "______________________________________________________________\n",
            " \n",
            "AUC is: 90.8 %\n"
          ]
        }
      ],
      "source": [
        "plot_roc(y_test,y_predp)"
      ]
    },
    {
      "cell_type": "markdown",
      "source": [
        "**Now Lets try More Complex Model**\n",
        "\n"
      ],
      "metadata": {
        "id": "EBtY-HZKV2Xp"
      }
    },
    {
      "cell_type": "markdown",
      "metadata": {
        "id": "Fd_EqCiodeHq"
      },
      "source": [
        "## Random Forest"
      ]
    },
    {
      "cell_type": "code",
      "execution_count": 182,
      "metadata": {
        "id": "GKVxUMhydUix"
      },
      "outputs": [],
      "source": [
        "from sklearn.ensemble import RandomForestClassifier\n",
        "\n",
        "RF_model=RandomForestClassifier()\n",
        "\n",
        "RF_model.fit(x_train,y_train)\n",
        "\n",
        "y_pred=RF_model.predict(x_test)"
      ]
    },
    {
      "cell_type": "code",
      "execution_count": 183,
      "metadata": {
        "colab": {
          "base_uri": "https://localhost:8080/",
          "height": 612
        },
        "id": "pPOaF4UNd6k_",
        "outputId": "f9a156ad-e05b-4e37-eec5-7c71502c31c5"
      },
      "outputs": [
        {
          "output_type": "stream",
          "name": "stdout",
          "text": [
            "              precision    recall  f1-score   support\n",
            "\n",
            "           0       0.86      0.88      0.87        86\n",
            "           1       0.89      0.88      0.88        96\n",
            "\n",
            "    accuracy                           0.88       182\n",
            "   macro avg       0.88      0.88      0.88       182\n",
            "weighted avg       0.88      0.88      0.88       182\n",
            "\n",
            "______________________________________________________________________________\n",
            " \n",
            " \n",
            "Accuracy score of model is: 87.9 %\n",
            "precision score of model is: 89.4 %\n",
            "f1_score score of model is: 88.4 %\n",
            "recall score of model is: 87.5 %\n",
            " \n",
            "______________________________________________________________________________\n",
            " \n"
          ]
        },
        {
          "output_type": "display_data",
          "data": {
            "text/plain": [
              "<Figure size 432x288 with 2 Axes>"
            ],
            "image/png": "[encoded data removed]"
          },
          "metadata": {
            "needs_background": "light"
          }
        }
      ],
      "source": [
        "check_model(y_test,y_pred)"
      ]
    },
    {
      "cell_type": "code",
      "execution_count": 184,
      "metadata": {
        "colab": {
          "base_uri": "https://localhost:8080/",
          "height": 347
        },
        "id": "GpUQmVrBd97B",
        "outputId": "a6cebb20-9b7c-412f-8694-4a77c447619b"
      },
      "outputs": [
        {
          "output_type": "display_data",
          "data": {
            "text/plain": [
              "<Figure size 432x288 with 1 Axes>"
            ],
            "image/png": "[encoded data removed]"
          },
          "metadata": {
            "needs_background": "light"
          }
        },
        {
          "output_type": "stream",
          "name": "stdout",
          "text": [
            "______________________________________________________________\n",
            " \n",
            "AUC is: 93.3 %\n"
          ]
        }
      ],
      "source": [
        "y_predp=RF_model.predict_proba(x_test)\n",
        "plot_roc(y_test,y_predp)"
      ]
    },
    {
      "cell_type": "markdown",
      "metadata": {
        "id": "JuVas6WFefgt"
      },
      "source": [
        "## XGBOOST"
      ]
    },
    {
      "cell_type": "code",
      "execution_count": 185,
      "metadata": {
        "id": "kHiDbbZbehfJ"
      },
      "outputs": [],
      "source": [
        "from xgboost import XGBClassifier\n",
        "\n",
        "xgb_model = XGBClassifier()\n",
        "\n",
        "xgb_model.fit(x_train,y_train)\n",
        "\n",
        "y_pred=xgb_model.predict(x_test)"
      ]
    },
    {
      "cell_type": "code",
      "execution_count": 186,
      "metadata": {
        "colab": {
          "base_uri": "https://localhost:8080/",
          "height": 612
        },
        "id": "SkvDSHKgelW3",
        "outputId": "6fb1fb7e-f549-4393-b119-d4af7c05873e"
      },
      "outputs": [
        {
          "output_type": "stream",
          "name": "stdout",
          "text": [
            "              precision    recall  f1-score   support\n",
            "\n",
            "           0       0.86      0.91      0.88        86\n",
            "           1       0.91      0.86      0.89        96\n",
            "\n",
            "    accuracy                           0.88       182\n",
            "   macro avg       0.88      0.89      0.88       182\n",
            "weighted avg       0.89      0.88      0.88       182\n",
            "\n",
            "______________________________________________________________________________\n",
            " \n",
            " \n",
            "Accuracy score of model is: 88.5 %\n",
            "precision score of model is: 91.2 %\n",
            "f1_score score of model is: 88.8 %\n",
            "recall score of model is: 86.5 %\n",
            " \n",
            "______________________________________________________________________________\n",
            " \n"
          ]
        },
        {
          "output_type": "display_data",
          "data": {
            "text/plain": [
              "<Figure size 432x288 with 2 Axes>"
            ],
            "image/png": "[encoded data removed]"
          },
          "metadata": {
            "needs_background": "light"
          }
        }
      ],
      "source": [
        "check_model(y_test,y_pred)"
      ]
    },
    {
      "cell_type": "code",
      "execution_count": 187,
      "metadata": {
        "colab": {
          "base_uri": "https://localhost:8080/",
          "height": 347
        },
        "id": "XwrHgelZenQ_",
        "outputId": "bd55d8c8-c132-4362-c7ce-d15a3b899f3a"
      },
      "outputs": [
        {
          "output_type": "display_data",
          "data": {
            "text/plain": [
              "<Figure size 432x288 with 1 Axes>"
            ],
            "image/png": "[encoded data removed]"
          },
          "metadata": {
            "needs_background": "light"
          }
        },
        {
          "output_type": "stream",
          "name": "stdout",
          "text": [
            "______________________________________________________________\n",
            " \n",
            "AUC is: 92.6 %\n"
          ]
        }
      ],
      "source": [
        "y_predp=xgb_model.predict_proba(x_test)\n",
        "plot_roc(y_test,y_predp)"
      ]
    },
    {
      "cell_type": "markdown",
      "source": [
        "**These dataset is a medical dataset which considerd a sensitive dataset so wem must focus at recall score in evaluation because it show the relation between truue positive and false negative ,f1=TP/TP+FN**"
      ],
      "metadata": {
        "id": "weYqu1zsWN8W"
      }
    },
    {
      "cell_type": "markdown",
      "source": [
        "**As we can see the highest recall score we reach at svm model so we will hypertuning on it to increase the recall score**"
      ],
      "metadata": {
        "id": "CrUcTUxKW_F3"
      }
    },
    {
      "cell_type": "code",
      "source": [
        "# HyperTuning on SVM\n",
        "\n",
        "#import necessary libraries \n",
        "from sklearn.model_selection import GridSearchCV \n",
        "#create a dictionary of parameters to be tuned \n",
        "parameters = {'kernel':('linear', 'rbf'), 'C':[1, 10]} \n",
        "svc = SVC() \n",
        "clf = GridSearchCV(svc, parameters) \n",
        "clf.fit(x_train,y_train) #perform hypertuning on the model  \n",
        "print(clf.best_params_) #print out the best parameter"
      ],
      "metadata": {
        "colab": {
          "base_uri": "https://localhost:8080/"
        },
        "id": "lGAFoeOV9H7Y",
        "outputId": "f83b4ba5-2a8a-4423-f19c-bf458f484cd3"
      },
      "execution_count": 79,
      "outputs": [
        {
          "output_type": "stream",
          "name": "stdout",
          "text": [
            "{'C': 1, 'kernel': 'rbf'}\n"
          ]
        }
      ]
    },
    {
      "cell_type": "code",
      "source": [
        "from sklearn.svm import SVC\n",
        "\n",
        "svm_model  = SVC(probability=True,C=1.0, kernel= 'rbf')\n",
        "svm_model.fit(x_train,y_train)\n",
        "\n",
        "y_pred = svm_model.predict(x_test)"
      ],
      "metadata": {
        "id": "pBms0NHca3ul"
      },
      "execution_count": 80,
      "outputs": []
    },
    {
      "cell_type": "markdown",
      "source": [
        "**Hypertuning on XGBOOST**"
      ],
      "metadata": {
        "id": "Z2KpY3-obgJq"
      }
    },
    {
      "cell_type": "code",
      "source": [
        "from xgboost import XGBClassifier\n",
        "xgb = XGBClassifier()\n",
        "\n",
        "params = {'max_depth' : [None,1, 3, 5,6,8],\n",
        "          'n_estimators' : [10,100]\n",
        "          }\n",
        "\n",
        "\n",
        "grid = GridSearchCV(xgb, param_grid = params, cv = 100)\n",
        "\n",
        "grid.fit(x_train , y_train)\n",
        "\n",
        "print(grid.best_params_)"
      ],
      "metadata": {
        "colab": {
          "base_uri": "https://localhost:8080/"
        },
        "id": "zb-c1p86blaN",
        "outputId": "1beed687-4f2b-4a7e-9352-64e783d7c826"
      },
      "execution_count": 54,
      "outputs": [
        {
          "output_type": "stream",
          "name": "stdout",
          "text": [
            "{'max_depth': 3, 'n_estimators': 100}\n"
          ]
        }
      ]
    },
    {
      "cell_type": "code",
      "source": [
        "from xgboost import XGBClassifier\n",
        "xgb = XGBClassifier()\n",
        "\n",
        "params = {'max_depth' : [None,1, 3, 5,6,8],\n",
        "          'n_estimators' : [10,300]\n",
        "          }\n",
        "\n",
        "\n",
        "grid = GridSearchCV(xgb, param_grid = params, cv = 100)\n",
        "\n",
        "grid.fit(x_train , y_train)\n",
        "\n",
        "print(grid.best_params_)"
      ],
      "metadata": {
        "colab": {
          "base_uri": "https://localhost:8080/"
        },
        "id": "wLv8SMqv89Ks",
        "outputId": "3c6b3758-1450-4c2b-ae96-79701f8b476e"
      },
      "execution_count": 84,
      "outputs": [
        {
          "output_type": "stream",
          "name": "stdout",
          "text": [
            "{'max_depth': 1, 'n_estimators': 300}\n"
          ]
        }
      ]
    },
    {
      "cell_type": "code",
      "source": [
        "from xgboost import XGBClassifier\n",
        "\n",
        "xgb_model = XGBClassifier(max_depth=1,n_estimators=300)\n",
        "\n",
        "xgb_model.fit(x_train,y_train)\n",
        "\n",
        "y_pred=xgb_model.predict(x_test)"
      ],
      "metadata": {
        "id": "XMIeet3Pburu"
      },
      "execution_count": 85,
      "outputs": []
    },
    {
      "cell_type": "code",
      "source": [
        "check_model(y_test,y_pred)"
      ],
      "metadata": {
        "colab": {
          "base_uri": "https://localhost:8080/",
          "height": 612
        },
        "id": "eKMSXv8ydSxi",
        "outputId": "d91934a2-cca7-461e-f8f1-1ba67a62eb67"
      },
      "execution_count": 86,
      "outputs": [
        {
          "output_type": "stream",
          "name": "stdout",
          "text": [
            "              precision    recall  f1-score   support\n",
            "\n",
            "           0       0.85      0.87      0.86        86\n",
            "           1       0.88      0.86      0.87        96\n",
            "\n",
            "    accuracy                           0.87       182\n",
            "   macro avg       0.87      0.87      0.87       182\n",
            "weighted avg       0.87      0.87      0.87       182\n",
            "\n",
            "______________________________________________________________________________\n",
            " \n",
            " \n",
            "Accuracy score of model is: 86.8 %\n",
            "precision score of model is: 88.3 %\n",
            "f1_score score of model is: 87.4 %\n",
            "recall score of model is: 86.5 %\n",
            " \n",
            "______________________________________________________________________________\n",
            " \n"
          ]
        },
        {
          "output_type": "display_data",
          "data": {
            "text/plain": [
              "<Figure size 432x288 with 2 Axes>"
            ],
            "image/png": "[encoded data removed]"
          },
          "metadata": {
            "needs_background": "light"
          }
        }
      ]
    },
    {
      "cell_type": "code",
      "source": [
        "from imblearn.over_sampling import SMOTE\n",
        "ros=SMOTE()\n",
        "x_ros, y_ros = ros.fit_resample(x_train,y_train)"
      ],
      "metadata": {
        "id": "gxfZQ4BCdVSh"
      },
      "execution_count": 75,
      "outputs": []
    },
    {
      "cell_type": "code",
      "source": [
        "from sklearn.svm import SVC\n",
        "\n",
        "svm_model  = SVC(probability=True)\n",
        "svm_model.fit(x_ros,y_ros)\n",
        "\n",
        "y_pred = svm_model.predict(x_test)"
      ],
      "metadata": {
        "id": "oRgcmQUN2kl7"
      },
      "execution_count": 76,
      "outputs": []
    },
    {
      "cell_type": "code",
      "source": [
        "check_model(y_test,y_pred)"
      ],
      "metadata": {
        "colab": {
          "base_uri": "https://localhost:8080/",
          "height": 612
        },
        "id": "hs-sqFiu3VWj",
        "outputId": "2c7fc9bb-fd94-49b9-85ac-f0c16d646507"
      },
      "execution_count": 77,
      "outputs": [
        {
          "output_type": "stream",
          "name": "stdout",
          "text": [
            "              precision    recall  f1-score   support\n",
            "\n",
            "           0       0.86      0.87      0.87        86\n",
            "           1       0.88      0.88      0.88        96\n",
            "\n",
            "    accuracy                           0.87       182\n",
            "   macro avg       0.87      0.87      0.87       182\n",
            "weighted avg       0.87      0.87      0.87       182\n",
            "\n",
            "______________________________________________________________________________\n",
            " \n",
            " \n",
            "Accuracy score of model is: 87.4 %\n",
            "precision score of model is: 88.4 %\n",
            "f1_score score of model is: 88.0 %\n",
            "recall score of model is: 87.5 %\n",
            " \n",
            "______________________________________________________________________________\n",
            " \n"
          ]
        },
        {
          "output_type": "display_data",
          "data": {
            "text/plain": [
              "<Figure size 432x288 with 2 Axes>"
            ],
            "image/png": "[encoded data removed]"
          },
          "metadata": {
            "needs_background": "light"
          }
        }
      ]
    },
    {
      "cell_type": "markdown",
      "source": [
        "I tried oversampling to increase number of data but it doesnt improve the model"
      ],
      "metadata": {
        "id": "qLt0xZLcNaUl"
      }
    },
    {
      "cell_type": "code",
      "source": [
        "#Correlation with Response Variable class\n",
        "\n",
        "x.corrwith(y).plot.bar(\n",
        "        figsize = (16, 4), title = \"Correlation with Diabetes\", fontsize = 15,\n",
        "        rot = 90, grid = True)"
      ],
      "metadata": {
        "colab": {
          "base_uri": "https://localhost:8080/",
          "height": 404
        },
        "id": "P7A2gYe--dm3",
        "outputId": "01af2aad-7cc7-41f8-a32a-022884825dcc"
      },
      "execution_count": 97,
      "outputs": [
        {
          "output_type": "execute_result",
          "data": {
            "text/plain": [
              "<matplotlib.axes._subplots.AxesSubplot at 0x7f6ce4113d90>"
            ]
          },
          "metadata": {},
          "execution_count": 97
        },
        {
          "output_type": "display_data",
          "data": {
            "text/plain": [
              "<Figure size 1152x288 with 1 Axes>"
            ],
            "image/png": "[encoded data removed]"
          },
          "metadata": {
            "needs_background": "light"
          }
        }
      ]
    },
    {
      "cell_type": "code",
      "source": [
        "# from sklearn.ensemble import RandomForestClassifier\n",
        "\n",
        "# rf = RandomForestClassifier()\n",
        "\n",
        "# params = {'n_estimators' : [50,100,150,200,], 'min_samples_split' : [2,4,6,8,10], 'max_depth' : ['Any', 100, 300]}\n",
        "\n",
        "# grid_rf = GridSearchCV(estimator = rf, param_grid = params, cv = 100)\n",
        "\n",
        "# grid_rf.fit(x_train, y_train)\n",
        "\n",
        "# print(grid_rf.best_params_)\n",
        "\n",
        "# #'max_depth': 150, 'min_samples_split': 6, 'n_estimators': 100\n",
        "\n",
        "# #{'max_depth': 300, 'min_samples_split': 10, 'n_estimators': 50}\n",
        "\n",
        "# #I've commented the previous code after execution because it took a very long time , but here are the best parameters\n",
        "\n",
        "#i doesnt make too much diffrence in scores"
      ],
      "metadata": {
        "id": "3kX-ZjQzAt48"
      },
      "execution_count": 196,
      "outputs": []
    },
    {
      "cell_type": "markdown",
      "source": [
        "#**At the end the SVM was best model wih recall score with accuracy 90% the score is not too muvh high but these is becauseof small dataset but if there is more patient the model will fit more and accuracy will increase**"
      ],
      "metadata": {
        "id": "xOA9fuwxKmf-"
      }
    }
  ],
  "metadata": {
    "colab": {
      "collapsed_sections": [
        "gdhrJHexMqDS",
        "j0SHY2iHSPL8",
        "K_IsfEMpUfi6",
        "09hMG9lJZZQe",
        "HvZfGwoVeW4l"
      ],
      "provenance": []
    },
    "kernelspec": {
      "display_name": "Python 3.10.2 64-bit",
      "language": "python",
      "name": "python3"
    },
    "language_info": {
      "name": "python",
      "version": "3.10.2"
    },
    "vscode": {
      "interpreter": {
        "hash": "fbc768028c3e6ead51d9a200ddcb2ec858ae62844dcd1994729a8279be9b48f2"
      }
    }
  },
  "nbformat": 4,
  "nbformat_minor": 0
}